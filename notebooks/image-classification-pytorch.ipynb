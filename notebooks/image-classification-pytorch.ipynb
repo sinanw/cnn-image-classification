{
 "cells": [
  {
   "cell_type": "markdown",
   "metadata": {},
   "source": [
    "# Convolutional Neural Networks - Image Classification [using Pytorch]"
   ]
  },
  {
   "cell_type": "markdown",
   "metadata": {},
   "source": [
    "### 1. INITIALIZATION"
   ]
  },
  {
   "cell_type": "code",
   "execution_count": 1,
   "metadata": {},
   "outputs": [],
   "source": [
    "# Import necessary libraries and modules\n",
    "import matplotlib.pyplot as plt\n",
    "import torch\n",
    "import torchvision\n",
    "import torchvision.transforms as transforms\n",
    "import torch.nn as nn\n",
    "import torch.nn.functional as F\n",
    "from sklearn.metrics import accuracy_score, f1_score, precision_score, recall_score"
   ]
  },
  {
   "cell_type": "code",
   "execution_count": 2,
   "metadata": {},
   "outputs": [
    {
     "data": {
      "text/plain": [
       "'2.2.2'"
      ]
     },
     "execution_count": 2,
     "metadata": {},
     "output_type": "execute_result"
    }
   ],
   "source": [
    "# Check tensorflow version\n",
    "torch.__version__"
   ]
  },
  {
   "cell_type": "markdown",
   "metadata": {},
   "source": [
    "### 2. LOADING & TRANSFORMING DATASET"
   ]
  },
  {
   "cell_type": "markdown",
   "metadata": {},
   "source": [
    "The dataset used is [CIFAR-10](https://www.cs.toronto.edu/~kriz/cifar.html), which is a widely used benchmark dataset in the field of computer vision and machine learning. It consists of 60,000 32x32 color images in 10 classes, with 6,000 images per class. It serves as a standard dataset for training and evaluating machine learning algorithms, particularly for image classification tasks.\n",
    "\n",
    "The classes are: airplane, automobile, bird, cat, deer, dog, frog, horse, ship, and truck."
   ]
  },
  {
   "cell_type": "markdown",
   "metadata": {},
   "source": [
    "Before loading the dataset, we need to initialize data augmentation and image transformations to avoid over fitting. This helps to increase the diversity of the dataset and improve the generalization ability of the CNN model.\n",
    "\n",
    "Transformations of training images are:\n",
    "- Randomly rotate images\n",
    "- Center crop to the images\n",
    "- Randomly flip images horizontally\n",
    "- Randomly changing the brightness, contrast, saturation, and hue of the image (color jitter)\n",
    "- Scale the pixel values of the images to be in the range [0, 1] (automatically done when converting to tensor)"
   ]
  },
  {
   "cell_type": "code",
   "execution_count": 3,
   "metadata": {},
   "outputs": [],
   "source": [
    "# Creating transformer for training data as a series of steps\n",
    "transform_train = transforms.Compose([\n",
    "    transforms.RandomRotation(10),\n",
    "    transforms.RandomHorizontalFlip(),\n",
    "    transforms.ColorJitter(brightness=0.2, contrast=0.2, saturation=0.2, hue=0.1),\n",
    "    transforms.ToTensor(),\n",
    "    transforms.Normalize((0.5, 0.5, 0.5), (0.5, 0.5, 0.5))\n",
    "])"
   ]
  },
  {
   "cell_type": "code",
   "execution_count": 4,
   "metadata": {},
   "outputs": [],
   "source": [
    "# Creating transformer for testing data as a series of steps - without augmentation\n",
    "transform_test = transforms.Compose([\n",
    "    transforms.ToTensor(),\n",
    "    transforms.Normalize((0.5, 0.5, 0.5), (0.5, 0.5, 0.5))\n",
    "])"
   ]
  },
  {
   "cell_type": "markdown",
   "metadata": {},
   "source": [
    "By separating the transformation pipelines for training and testing, we ensure that the model is trained with data augmentations that help it generalize better, while the test data remains consistent and unmodified to accurately evaluate the model's performance."
   ]
  },
  {
   "cell_type": "code",
   "execution_count": 5,
   "metadata": {},
   "outputs": [
    {
     "name": "stdout",
     "output_type": "stream",
     "text": [
      "Files already downloaded and verified\n",
      "Files already downloaded and verified\n"
     ]
    }
   ],
   "source": [
    "# Loading the dataset from pytorch library\n",
    "data_train = torchvision.datasets.CIFAR10(root=\"../data/raw\", train=True, download=True, transform=transform_train)\n",
    "data_test = torchvision.datasets.CIFAR10(root=\"../data/raw\", train=False, download=True, transform=transform_test)"
   ]
  },
  {
   "cell_type": "code",
   "execution_count": 6,
   "metadata": {},
   "outputs": [],
   "source": [
    "# Initialize data loaders\n",
    "train_loader = torch.utils.data.DataLoader(data_train, batch_size=32, shuffle=True)\n",
    "test_loader = torch.utils.data.DataLoader(data_test, batch_size=32, shuffle=False)"
   ]
  },
  {
   "cell_type": "markdown",
   "metadata": {},
   "source": [
    "### 4. BUILDING CNN MODEL"
   ]
  },
  {
   "cell_type": "code",
   "execution_count": 7,
   "metadata": {},
   "outputs": [],
   "source": [
    "class CNN(nn.Module):\n",
    "    def __init__(self):\n",
    "        \n",
    "        super(CNN, self).__init__()\n",
    "        \n",
    "        # Define the convolutional layers\n",
    "        self.conv1 = nn.Conv2d(in_channels=3, out_channels=32, kernel_size=3, stride=1, padding=1)\n",
    "        self.conv2 = nn.Conv2d(in_channels=32, out_channels=64, kernel_size=3, stride=1, padding=1)\n",
    "        \n",
    "        # Define the pooling layers\n",
    "        self.pool = nn.MaxPool2d(kernel_size=2, stride=2, padding=0)\n",
    "        \n",
    "        # Define the fully connected layers\n",
    "        self.fc1 = nn.Linear(64 * 8 * 8, 128)  # 8 * 8 * 6 is the flattened dimension after pooling\n",
    "        self.fc2 = nn.Linear(128, 64)\n",
    "        self.fc3 = nn.Linear(64, 10)  # 10 output units for 10 classes\n",
    "\n",
    "    def forward(self, x):\n",
    "        \n",
    "        # Apply convolutional layers with ReLU activation and pooling\n",
    "        x = self.pool(F.relu(self.conv1(x)))\n",
    "        x = self.pool(F.relu(self.conv2(x)))\n",
    "        \n",
    "        # Flatten the output from the convolutional layers\n",
    "        x = x.view(-1, 64 * 8 * 8)\n",
    "        \n",
    "        # Apply fully connected layers with ReLU activation\n",
    "        x = F.relu(self.fc1(x))\n",
    "        x = F.relu(self.fc2(x))\n",
    "        \n",
    "        # Apply the output layer with softmax activation\n",
    "        x = self.fc3(x)\n",
    "        return F.log_softmax(x, dim=1)"
   ]
  },
  {
   "cell_type": "code",
   "execution_count": 8,
   "metadata": {},
   "outputs": [],
   "source": [
    "# Initialize the model\n",
    "cnn = CNN()\n",
    "\n",
    "# Define the loss function (cross-entropy loss)\n",
    "criterion = nn.CrossEntropyLoss()\n",
    "\n",
    "# Define the optimizer (Adam optimizer)\n",
    "optimizer = torch.optim.Adam(cnn.parameters(), lr=0.001)"
   ]
  },
  {
   "cell_type": "markdown",
   "metadata": {},
   "source": [
    "### 5. TRAINING CNN MODEL"
   ]
  },
  {
   "cell_type": "code",
   "execution_count": 9,
   "metadata": {},
   "outputs": [],
   "source": [
    "# Initialize metrics function\n",
    "def compute_metrics(outputs, labels):\n",
    "     # Convert model outputs to predicted labels\n",
    "    _, preds = torch.max(outputs, 1)\n",
    "    \n",
    "    # Convert labels and predictions to numpy arrays\n",
    "    labels = labels.cpu().numpy()\n",
    "    preds = preds.cpu().numpy()\n",
    "    \n",
    "    # Calculate accuracy, F1-score, precision, and recall\n",
    "    accuracy = accuracy_score(labels, preds)\n",
    "    f1 = f1_score(labels, preds, average='weighted')\n",
    "    precision = precision_score(labels, preds, average='weighted', zero_division=1)\n",
    "    recall = recall_score(labels, preds, average='weighted', zero_division=1)\n",
    "    \n",
    "    return accuracy, f1, precision, recall"
   ]
  },
  {
   "cell_type": "code",
   "execution_count": 10,
   "metadata": {},
   "outputs": [
    {
     "name": "stdout",
     "output_type": "stream",
     "text": [
      "Epoch [1/25], accuracy: 0.4584 - f1_score: 0.4433 - loss: 1.4914 - precision: 0.5936 - recall: 0.4584 - val_accuracy: 0.5840 - val_f1_score: 0.5751 - val_loss: 1.1738 - val_precision: 0.6853 - val_recall: 0.5840\n",
      "Epoch [2/25], accuracy: 0.6065 - f1_score: 0.6009 - loss: 1.1112 - precision: 0.6932 - recall: 0.6065 - val_accuracy: 0.6613 - val_f1_score: 0.6540 - val_loss: 0.9666 - val_precision: 0.7325 - val_recall: 0.6613\n",
      "Epoch [3/25], accuracy: 0.6570 - f1_score: 0.6538 - loss: 0.9787 - precision: 0.7374 - recall: 0.6570 - val_accuracy: 0.6852 - val_f1_score: 0.6815 - val_loss: 0.8916 - val_precision: 0.7566 - val_recall: 0.6852\n",
      "Epoch [4/25], accuracy: 0.6831 - f1_score: 0.6817 - loss: 0.8982 - precision: 0.7582 - recall: 0.6831 - val_accuracy: 0.7095 - val_f1_score: 0.7061 - val_loss: 0.8413 - val_precision: 0.7781 - val_recall: 0.7095\n",
      "Epoch [5/25], accuracy: 0.7054 - f1_score: 0.7033 - loss: 0.8405 - precision: 0.7758 - recall: 0.7054 - val_accuracy: 0.7208 - val_f1_score: 0.7166 - val_loss: 0.8007 - val_precision: 0.7931 - val_recall: 0.7208\n",
      "Epoch [6/25], accuracy: 0.7227 - f1_score: 0.7203 - loss: 0.7946 - precision: 0.7892 - recall: 0.7227 - val_accuracy: 0.7175 - val_f1_score: 0.7151 - val_loss: 0.8079 - val_precision: 0.7845 - val_recall: 0.7175\n",
      "Epoch [7/25], accuracy: 0.7335 - f1_score: 0.7314 - loss: 0.7634 - precision: 0.7963 - recall: 0.7335 - val_accuracy: 0.7378 - val_f1_score: 0.7309 - val_loss: 0.7749 - val_precision: 0.7939 - val_recall: 0.7378\n",
      "Epoch [8/25], accuracy: 0.7413 - f1_score: 0.7403 - loss: 0.7327 - precision: 0.8045 - recall: 0.7413 - val_accuracy: 0.7387 - val_f1_score: 0.7357 - val_loss: 0.7622 - val_precision: 0.7976 - val_recall: 0.7387\n",
      "Epoch [9/25], accuracy: 0.7519 - f1_score: 0.7507 - loss: 0.7072 - precision: 0.8131 - recall: 0.7519 - val_accuracy: 0.7450 - val_f1_score: 0.7453 - val_loss: 0.7516 - val_precision: 0.8042 - val_recall: 0.7450\n",
      "Epoch [10/25], accuracy: 0.7587 - f1_score: 0.7573 - loss: 0.6866 - precision: 0.8169 - recall: 0.7587 - val_accuracy: 0.7520 - val_f1_score: 0.7497 - val_loss: 0.7339 - val_precision: 0.8102 - val_recall: 0.7520\n",
      "Epoch [11/25], accuracy: 0.7651 - f1_score: 0.7645 - loss: 0.6688 - precision: 0.8245 - recall: 0.7651 - val_accuracy: 0.7621 - val_f1_score: 0.7596 - val_loss: 0.7117 - val_precision: 0.8139 - val_recall: 0.7621\n",
      "Epoch [12/25], accuracy: 0.7708 - f1_score: 0.7691 - loss: 0.6538 - precision: 0.8273 - recall: 0.7708 - val_accuracy: 0.7512 - val_f1_score: 0.7491 - val_loss: 0.7276 - val_precision: 0.8058 - val_recall: 0.7512\n",
      "Epoch [13/25], accuracy: 0.7784 - f1_score: 0.7768 - loss: 0.6354 - precision: 0.8320 - recall: 0.7784 - val_accuracy: 0.7639 - val_f1_score: 0.7608 - val_loss: 0.7059 - val_precision: 0.8161 - val_recall: 0.7639\n",
      "Epoch [14/25], accuracy: 0.7819 - f1_score: 0.7802 - loss: 0.6233 - precision: 0.8364 - recall: 0.7819 - val_accuracy: 0.7466 - val_f1_score: 0.7420 - val_loss: 0.7525 - val_precision: 0.8052 - val_recall: 0.7466\n",
      "Epoch [15/25], accuracy: 0.7870 - f1_score: 0.7866 - loss: 0.6106 - precision: 0.8419 - recall: 0.7870 - val_accuracy: 0.7649 - val_f1_score: 0.7630 - val_loss: 0.7125 - val_precision: 0.8168 - val_recall: 0.7649\n",
      "Epoch [16/25], accuracy: 0.7885 - f1_score: 0.7875 - loss: 0.6021 - precision: 0.8416 - recall: 0.7885 - val_accuracy: 0.7570 - val_f1_score: 0.7556 - val_loss: 0.7429 - val_precision: 0.8142 - val_recall: 0.7570\n",
      "Epoch [17/25], accuracy: 0.7924 - f1_score: 0.7919 - loss: 0.5887 - precision: 0.8453 - recall: 0.7924 - val_accuracy: 0.7570 - val_f1_score: 0.7539 - val_loss: 0.7272 - val_precision: 0.8151 - val_recall: 0.7570\n",
      "Epoch [18/25], accuracy: 0.7958 - f1_score: 0.7954 - loss: 0.5749 - precision: 0.8472 - recall: 0.7958 - val_accuracy: 0.7631 - val_f1_score: 0.7625 - val_loss: 0.7079 - val_precision: 0.8178 - val_recall: 0.7631\n",
      "Epoch [19/25], accuracy: 0.7973 - f1_score: 0.7968 - loss: 0.5700 - precision: 0.8490 - recall: 0.7973 - val_accuracy: 0.7665 - val_f1_score: 0.7630 - val_loss: 0.7232 - val_precision: 0.8193 - val_recall: 0.7665\n",
      "Epoch [20/25], accuracy: 0.8029 - f1_score: 0.8027 - loss: 0.5573 - precision: 0.8533 - recall: 0.8029 - val_accuracy: 0.7641 - val_f1_score: 0.7607 - val_loss: 0.7213 - val_precision: 0.8134 - val_recall: 0.7641\n",
      "Epoch [21/25], accuracy: 0.8042 - f1_score: 0.8035 - loss: 0.5554 - precision: 0.8539 - recall: 0.8042 - val_accuracy: 0.7620 - val_f1_score: 0.7561 - val_loss: 0.7305 - val_precision: 0.8143 - val_recall: 0.7620\n",
      "Epoch [22/25], accuracy: 0.8072 - f1_score: 0.8064 - loss: 0.5433 - precision: 0.8566 - recall: 0.8072 - val_accuracy: 0.7609 - val_f1_score: 0.7590 - val_loss: 0.7202 - val_precision: 0.8147 - val_recall: 0.7609\n",
      "Epoch [23/25], accuracy: 0.8129 - f1_score: 0.8125 - loss: 0.5365 - precision: 0.8624 - recall: 0.8129 - val_accuracy: 0.7643 - val_f1_score: 0.7622 - val_loss: 0.7236 - val_precision: 0.8248 - val_recall: 0.7643\n",
      "Epoch [24/25], accuracy: 0.8139 - f1_score: 0.8132 - loss: 0.5308 - precision: 0.8624 - recall: 0.8139 - val_accuracy: 0.7756 - val_f1_score: 0.7736 - val_loss: 0.7101 - val_precision: 0.8270 - val_recall: 0.7756\n",
      "Epoch [25/25], accuracy: 0.8189 - f1_score: 0.8185 - loss: 0.5150 - precision: 0.8660 - recall: 0.8189 - val_accuracy: 0.7717 - val_f1_score: 0.7701 - val_loss: 0.7265 - val_precision: 0.8227 - val_recall: 0.7717\n"
     ]
    }
   ],
   "source": [
    "# Number of epochs to train the model\n",
    "num_epochs = 25\n",
    "\n",
    "# Check if GPU is available\n",
    "device = torch.device(\"cuda\" if torch.cuda.is_available() else \"cpu\")\n",
    "\n",
    "# Move your model to the GPU\n",
    "cnn.to(device)\n",
    "\n",
    "# Set model to training mode\n",
    "cnn.train()\n",
    "\n",
    "# Lists to store training and validation metrics\n",
    "train_accuracies = []\n",
    "val_accuracies = []\n",
    "\n",
    "# Training loop\n",
    "for epoch in range(num_epochs):\n",
    "    \n",
    "    running_loss = 0.0\n",
    "    running_accuracy = 0.0\n",
    "    running_f1 = 0.0\n",
    "    running_precision = 0.0\n",
    "    running_recall = 0.0\n",
    "    for i, (inputs, labels) in enumerate(train_loader):\n",
    "        \n",
    "         # Move inputs and labels to the GPU\n",
    "        inputs, labels = inputs.to(device), labels.to(device)     \n",
    "        \n",
    "        # Initialize parameter gradients\n",
    "        optimizer.zero_grad()\n",
    "        \n",
    "        # Forward pass: compute model output\n",
    "        outputs = cnn(inputs)\n",
    "        \n",
    "        # Compute loss\n",
    "        loss = criterion(outputs, labels)\n",
    "        \n",
    "        # Backward pass: compute gradients\n",
    "        loss.backward()\n",
    "        \n",
    "        # Update model parameters\n",
    "        optimizer.step()\n",
    "        \n",
    "        # Accumulate loss\n",
    "        running_loss += loss.item()\n",
    "        \n",
    "        # Calculate metrics\n",
    "        accuracy, f1, precision, recall = compute_metrics(outputs, labels)\n",
    "        running_accuracy += accuracy\n",
    "        running_f1 += f1\n",
    "        running_precision += precision\n",
    "        running_recall += recall\n",
    "    \n",
    "    # Calculate average metrics for each epoch\n",
    "    avg_loss = running_loss / len(train_loader)\n",
    "    avg_accuracy = running_accuracy / len(train_loader)\n",
    "    avg_f1 = running_f1 / len(train_loader)\n",
    "    avg_precision = running_precision / len(train_loader)\n",
    "    avg_recall = running_recall / len(train_loader)\n",
    "    \n",
    "    # Store training accuracy\n",
    "    train_accuracies.append(avg_accuracy)\n",
    "    \n",
    "   # Set model to evaluation mode\n",
    "    cnn.eval()\n",
    "    \n",
    "    # Initialize evaluation metrics\n",
    "    eval_loss = 0.0\n",
    "    eval_accuracy = 0.0\n",
    "    eval_f1 = 0.0\n",
    "    eval_precision = 0.0\n",
    "    eval_recall = 0.0\n",
    "    \n",
    "    # Disable gradient computation for evaluation\n",
    "    with torch.no_grad():\n",
    "        for inputs, labels in test_loader:\n",
    "            \n",
    "            # Move inputs and labels to the GPU\n",
    "            inputs, labels = inputs.to(device), labels.to(device)\n",
    "            \n",
    "            # Forward pass: compute model output\n",
    "            outputs = cnn(inputs)\n",
    "            \n",
    "            # Compute loss\n",
    "            loss = criterion(outputs, labels)\n",
    "            \n",
    "            # Accumulate evaluation loss\n",
    "            eval_loss += loss.item()\n",
    "            \n",
    "            # Calculate metrics\n",
    "            accuracy, f1, precision, recall = compute_metrics(outputs, labels)\n",
    "            eval_accuracy += accuracy\n",
    "            eval_f1 += f1\n",
    "            eval_precision += precision\n",
    "            eval_recall += recall\n",
    "    \n",
    "    # Calculate average metrics for the evaluation set for each epoch\n",
    "    avg_eval_loss = eval_loss / len(test_loader)\n",
    "    avg_eval_accuracy = eval_accuracy / len(test_loader)\n",
    "    avg_eval_f1 = eval_f1 / len(test_loader)\n",
    "    avg_eval_precision = eval_precision / len(test_loader)\n",
    "    avg_eval_recall = eval_recall / len(test_loader)\n",
    "    \n",
    "    # Store validation accuracy\n",
    "    val_accuracies.append(avg_eval_accuracy)\n",
    "    \n",
    "    # Print average metrics for the epoch\n",
    "    print(f'Epoch [{epoch+1}/{num_epochs}], '\n",
    "          f'accuracy: {avg_accuracy:.4f} - f1_score: {avg_f1:.4f} - loss: {avg_loss:.4f} - '\n",
    "          f'precision: {avg_precision:.4f} - recall: {avg_recall:.4f} - '\n",
    "          f'val_accuracy: {avg_eval_accuracy:.4f} - val_f1_score: {avg_eval_f1:.4f} - val_loss: {avg_eval_loss:.4f} - '\n",
    "          f'val_precision: {avg_eval_precision:.4f} - val_recall: {avg_eval_recall:.4f}')\n",
    "        \n",
    "    # Set model back to training mode\n",
    "    cnn.train()\n"
   ]
  },
  {
   "cell_type": "markdown",
   "metadata": {},
   "source": [
    "### 6. PERFORMANCE ANALYSIS"
   ]
  },
  {
   "cell_type": "code",
   "execution_count": 11,
   "metadata": {},
   "outputs": [
    {
     "data": {
      "image/png": "[encoded data removed]",
      "text/plain": [
       "<Figure size 640x480 with 1 Axes>"
      ]
     },
     "metadata": {},
     "output_type": "display_data"
    }
   ],
   "source": [
    "# Plot training & validation accuracy values\n",
    "plt.plot(train_accuracies)\n",
    "plt.plot(val_accuracies)\n",
    "plt.title('Model accuracy')\n",
    "plt.ylabel('Accuracy')\n",
    "plt.xlabel('Epoch')\n",
    "plt.legend(['Train', 'Validation'], loc='upper left')\n",
    "plt.show()"
   ]
  }
 ],
 "metadata": {
  "kernelspec": {
   "display_name": "dl_course",
   "language": "python",
   "name": "python3"
  },
  "language_info": {
   "codemirror_mode": {
    "name": "ipython",
    "version": 3
   },
   "file_extension": ".py",
   "mimetype": "text/x-python",
   "name": "python",
   "nbconvert_exporter": "python",
   "pygments_lexer": "ipython3",
   "version": "3.11.8"
  }
 },
 "nbformat": 4,
 "nbformat_minor": 2
}
