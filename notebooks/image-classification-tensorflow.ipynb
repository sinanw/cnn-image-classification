{
 "cells": [
  {
   "cell_type": "markdown",
   "metadata": {},
   "source": [
    "# Convolutional Neural Networks - Image Classification [using Tensorflow]"
   ]
  },
  {
   "cell_type": "markdown",
   "metadata": {},
   "source": [
    "### 1. INITIALIZATION"
   ]
  },
  {
   "cell_type": "code",
   "execution_count": 1,
   "metadata": {},
   "outputs": [],
   "source": [
    "# Import necessary libraries and modules\n",
    "import tensorflow as tf\n",
    "from tensorflow.keras.preprocessing.image import ImageDataGenerator\n",
    "import matplotlib.pyplot as plt\n",
    "from tensorflow.keras.layers import Conv2D, MaxPool2D, Dense, Flatten, Dropout, Input\n",
    "from tensorflow.keras.models import Sequential"
   ]
  },
  {
   "cell_type": "code",
   "execution_count": 2,
   "metadata": {},
   "outputs": [
    {
     "data": {
      "text/plain": [
       "'2.16.1'"
      ]
     },
     "execution_count": 2,
     "metadata": {},
     "output_type": "execute_result"
    }
   ],
   "source": [
    "# Check tensorflow version\n",
    "tf.__version__"
   ]
  },
  {
   "cell_type": "markdown",
   "metadata": {},
   "source": [
    "### 2. LOADING DATASET"
   ]
  },
  {
   "cell_type": "markdown",
   "metadata": {},
   "source": [
    "The dataset used is [CIFAR-10](https://www.cs.toronto.edu/~kriz/cifar.html), which is a widely used benchmark dataset in the field of computer vision and machine learning. It consists of 60,000 32x32 color images in 10 classes, with 6,000 images per class. It serves as a standard dataset for training and evaluating machine learning algorithms, particularly for image classification tasks.\n",
    "\n",
    "The classes are: airplane, automobile, bird, cat, deer, dog, frog, horse, ship, and truck."
   ]
  },
  {
   "cell_type": "code",
   "execution_count": 3,
   "metadata": {},
   "outputs": [],
   "source": [
    "# Loading the dataset from keras library\n",
    "from keras.datasets import cifar10 \n",
    "(X_train, y_train), (X_test, y_test) = cifar10.load_data()"
   ]
  },
  {
   "cell_type": "code",
   "execution_count": 4,
   "metadata": {},
   "outputs": [
    {
     "name": "stdout",
     "output_type": "stream",
     "text": [
      "X Train: (50000, 32, 32, 3) \n",
      "X Test: (10000, 32, 32, 3) \n",
      "y Train: (50000, 1) \n",
      "y test: (10000, 1)\n"
     ]
    }
   ],
   "source": [
    "# Check imported dataset details\n",
    "print(\"X Train: {} \\nX Test: {} \\ny Train: {} \\ny test: {}\".format(X_train.shape, X_test.shape, y_train.shape, y_test.shape))"
   ]
  },
  {
   "cell_type": "markdown",
   "metadata": {},
   "source": [
    "As we see here, the dataset comprises 50,000 training images and 10,000 test images, each with a resolution of 32x32 pixels and three color channels (RGB). Additionally, the dataset includes corresponding labels for both training and test sets, each represented as a single column array."
   ]
  },
  {
   "cell_type": "markdown",
   "metadata": {},
   "source": [
    "### 3. IMAGE PREPROCESSING"
   ]
  },
  {
   "cell_type": "markdown",
   "metadata": {},
   "source": [
    "Since we are dealing with a CNN model with multi class predictions, the true labels should be compatible with the output of CNN model. Thus, we have to convert the class labels into one-hot encoded vectors to represent them in a format that's more suitable for training a neural network."
   ]
  },
  {
   "cell_type": "code",
   "execution_count": 5,
   "metadata": {},
   "outputs": [],
   "source": [
    "# Convert target data to one-hot encoding\n",
    "y_train = tf.keras.utils.to_categorical(y_train, num_classes=10)\n",
    "y_test = tf.keras.utils.to_categorical(y_test, num_classes=10)"
   ]
  },
  {
   "cell_type": "markdown",
   "metadata": {},
   "source": [
    "Implementing data augmentation and image transformations to avoid over fitting. This helps to increase the diversity of the dataset and improve the generalization ability of the CNN model.\n",
    "\n",
    "Transformations of training images are:\n",
    "- Scale the pixel values of the images to be in the range [0, 1].\n",
    "- Randomly apply shear transformations to the images.\n",
    "- Randomly apply zoom transformations to the images.\n",
    "- Randomly flip images horizontally."
   ]
  },
  {
   "cell_type": "code",
   "execution_count": 6,
   "metadata": {},
   "outputs": [],
   "source": [
    "# Initialize ImageDataGenerator for training data\n",
    "train_datagen = ImageDataGenerator(\n",
    "    rescale = 1./255,\n",
    "    shear_range = 0.2,\n",
    "    zoom_range = 0.2,\n",
    "    horizontal_flip = True\n",
    ")"
   ]
  },
  {
   "cell_type": "code",
   "execution_count": 7,
   "metadata": {},
   "outputs": [],
   "source": [
    "# Generate augmented training data batches\n",
    "train_generator = train_datagen.flow(\n",
    "    X_train, y_train,\n",
    "    batch_size = 32\n",
    ")"
   ]
  },
  {
   "cell_type": "markdown",
   "metadata": {},
   "source": [
    "To avoid data leakage and over fitting, only pixel scaling is implemented on testing images."
   ]
  },
  {
   "cell_type": "code",
   "execution_count": 8,
   "metadata": {},
   "outputs": [],
   "source": [
    "# Initialize ImageDataGenerator for testing data\n",
    "test_datagen = ImageDataGenerator(\n",
    "    rescale = 1./255\n",
    ")"
   ]
  },
  {
   "cell_type": "code",
   "execution_count": 9,
   "metadata": {},
   "outputs": [],
   "source": [
    "# Generate augmented testing data batches\n",
    "test_generator = test_datagen.flow(\n",
    "    X_test, y_test,\n",
    "    batch_size = 32\n",
    ")"
   ]
  },
  {
   "cell_type": "markdown",
   "metadata": {},
   "source": [
    "### 4. BUILDING CNN MODEL"
   ]
  },
  {
   "cell_type": "markdown",
   "metadata": {},
   "source": [
    "#### Initializing CNN model"
   ]
  },
  {
   "cell_type": "code",
   "execution_count": 10,
   "metadata": {},
   "outputs": [],
   "source": [
    "# Initializing cnn model\n",
    "cnn = Sequential()"
   ]
  },
  {
   "cell_type": "markdown",
   "metadata": {},
   "source": [
    "#### Input layer"
   ]
  },
  {
   "cell_type": "code",
   "execution_count": 11,
   "metadata": {},
   "outputs": [],
   "source": [
    "# Add input layer\n",
    "cnn.add(Input(shape=(32, 32, 3)))"
   ]
  },
  {
   "cell_type": "markdown",
   "metadata": {},
   "source": [
    "#### Convolutional layers"
   ]
  },
  {
   "cell_type": "markdown",
   "metadata": {},
   "source": [
    "We use 2 convolutional layers with an increasing number of filters to allow the model to capture more complex patterns in the images.\n",
    "\n",
    "Convolutional layers are followed by max pooling layers to reduce the spatial dimensions of the feature maps and help in controlling overfitting by providing translation invariance."
   ]
  },
  {
   "cell_type": "code",
   "execution_count": 12,
   "metadata": {},
   "outputs": [],
   "source": [
    "# Add first convolutional layer\n",
    "cnn.add(Conv2D(filters=32, kernel_size=(3,3), strides=(1,1), activation=\"relu\"))"
   ]
  },
  {
   "cell_type": "code",
   "execution_count": 13,
   "metadata": {},
   "outputs": [],
   "source": [
    "# Add first pooling layer\n",
    "cnn.add(MaxPool2D(pool_size=(2,2), strides=2))"
   ]
  },
  {
   "cell_type": "code",
   "execution_count": 14,
   "metadata": {},
   "outputs": [],
   "source": [
    "# Add second convolutional layer\n",
    "cnn.add(Conv2D(filters=64, kernel_size=(3,3), strides=(1,1), activation=\"relu\"))"
   ]
  },
  {
   "cell_type": "code",
   "execution_count": 15,
   "metadata": {},
   "outputs": [],
   "source": [
    "# Add second pooling layer\n",
    "cnn.add(MaxPool2D(pool_size=(2,2), strides=2))"
   ]
  },
  {
   "cell_type": "markdown",
   "metadata": {},
   "source": [
    "#### Flattening layer"
   ]
  },
  {
   "cell_type": "markdown",
   "metadata": {},
   "source": [
    "This layer flattens the output from the convolutional layers into a one-dimensional vector, preparing it to be inputted into the dense layers."
   ]
  },
  {
   "cell_type": "code",
   "execution_count": 16,
   "metadata": {},
   "outputs": [],
   "source": [
    "# Add flattening layer\n",
    "cnn.add(Flatten())"
   ]
  },
  {
   "cell_type": "markdown",
   "metadata": {},
   "source": [
    "#### Fully connected layers"
   ]
  },
  {
   "cell_type": "markdown",
   "metadata": {},
   "source": [
    "We use a dense layer as a fully connected layer to learn high-level features from the flattened input. Another dense layer is also added to further refining the learned features.\n"
   ]
  },
  {
   "cell_type": "code",
   "execution_count": 17,
   "metadata": {},
   "outputs": [],
   "source": [
    "# Add first fully connected layer\n",
    "cnn.add(Dense(units=128, activation=\"relu\"))"
   ]
  },
  {
   "cell_type": "code",
   "execution_count": 18,
   "metadata": {},
   "outputs": [],
   "source": [
    "# Add second fully connected layer\n",
    "cnn.add(Dense(units=64, activation=\"relu\"))"
   ]
  },
  {
   "cell_type": "markdown",
   "metadata": {},
   "source": [
    "#### Output layer"
   ]
  },
  {
   "cell_type": "markdown",
   "metadata": {},
   "source": [
    "The final dense layer has 10 units (equal to the number of classes in the classification task) with a softmax activation, producing probabilities for each class."
   ]
  },
  {
   "cell_type": "code",
   "execution_count": 19,
   "metadata": {},
   "outputs": [],
   "source": [
    "# Add output layer\n",
    "cnn.add(Dense(units=10, activation=\"softmax\"))"
   ]
  },
  {
   "cell_type": "markdown",
   "metadata": {},
   "source": [
    "### 5. TRAINING CNN MODEL"
   ]
  },
  {
   "cell_type": "markdown",
   "metadata": {},
   "source": [
    "#### Compile CNN model"
   ]
  },
  {
   "cell_type": "code",
   "execution_count": 20,
   "metadata": {},
   "outputs": [],
   "source": [
    "# Compiling the sequential model\n",
    "cnn.compile(optimizer=\"adam\", loss=\"categorical_crossentropy\", metrics=[\"accuracy\", \"precision\", \"recall\", \"f1_score\"])"
   ]
  },
  {
   "cell_type": "markdown",
   "metadata": {},
   "source": [
    "#### Train CNN model"
   ]
  },
  {
   "cell_type": "code",
   "execution_count": 21,
   "metadata": {},
   "outputs": [
    {
     "name": "stdout",
     "output_type": "stream",
     "text": [
      "Epoch 1/25\n",
      "\u001b[1m   7/1563\u001b[0m \u001b[37m━━━━━━━━━━━━━━━━━━━━\u001b[0m \u001b[1m13s\u001b[0m 8ms/step - accuracy: 0.0728 - f1_score: 0.0427 - loss: 2.3157 - precision: 0.0000e+00 - recall: 0.0000e+00 "
     ]
    },
    {
     "name": "stderr",
     "output_type": "stream",
     "text": [
      "c:\\Users\\SinanWannous\\anaconda3\\envs\\dl_course\\Lib\\site-packages\\keras\\src\\trainers\\data_adapters\\py_dataset_adapter.py:122: UserWarning: Your `PyDataset` class should call `super().__init__(**kwargs)` in its constructor. `**kwargs` can include `workers`, `use_multiprocessing`, `max_queue_size`. Do not pass these arguments to `fit()`, as they will be ignored.\n",
      "  self._warn_if_super_not_called()\n"
     ]
    },
    {
     "name": "stdout",
     "output_type": "stream",
     "text": [
      "\u001b[1m1563/1563\u001b[0m \u001b[32m━━━━━━━━━━━━━━━━━━━━\u001b[0m\u001b[37m\u001b[0m \u001b[1m17s\u001b[0m 10ms/step - accuracy: 0.3554 - f1_score: 0.3468 - loss: 1.7428 - precision: 0.6073 - recall: 0.1213 - val_accuracy: 0.5760 - val_f1_score: 0.5655 - val_loss: 1.1877 - val_precision: 0.7400 - val_recall: 0.3999\n",
      "Epoch 2/25\n",
      "\u001b[1m1563/1563\u001b[0m \u001b[32m━━━━━━━━━━━━━━━━━━━━\u001b[0m\u001b[37m\u001b[0m \u001b[1m16s\u001b[0m 10ms/step - accuracy: 0.5709 - f1_score: 0.5673 - loss: 1.2069 - precision: 0.7348 - recall: 0.4037 - val_accuracy: 0.5903 - val_f1_score: 0.5798 - val_loss: 1.1580 - val_precision: 0.6960 - val_recall: 0.4813\n",
      "Epoch 3/25\n",
      "\u001b[1m1563/1563\u001b[0m \u001b[32m━━━━━━━━━━━━━━━━━━━━\u001b[0m\u001b[37m\u001b[0m \u001b[1m16s\u001b[0m 10ms/step - accuracy: 0.6277 - f1_score: 0.6254 - loss: 1.0587 - precision: 0.7576 - recall: 0.4914 - val_accuracy: 0.6531 - val_f1_score: 0.6447 - val_loss: 0.9919 - val_precision: 0.7668 - val_recall: 0.5393\n",
      "Epoch 4/25\n",
      "\u001b[1m1563/1563\u001b[0m \u001b[32m━━━━━━━━━━━━━━━━━━━━\u001b[0m\u001b[37m\u001b[0m \u001b[1m16s\u001b[0m 10ms/step - accuracy: 0.6566 - f1_score: 0.6554 - loss: 0.9758 - precision: 0.7775 - recall: 0.5362 - val_accuracy: 0.6878 - val_f1_score: 0.6857 - val_loss: 0.8975 - val_precision: 0.7843 - val_recall: 0.5927\n",
      "Epoch 5/25\n",
      "\u001b[1m1563/1563\u001b[0m \u001b[32m━━━━━━━━━━━━━━━━━━━━\u001b[0m\u001b[37m\u001b[0m \u001b[1m15s\u001b[0m 9ms/step - accuracy: 0.6803 - f1_score: 0.6796 - loss: 0.9161 - precision: 0.7894 - recall: 0.5733 - val_accuracy: 0.6810 - val_f1_score: 0.6718 - val_loss: 0.9202 - val_precision: 0.7570 - val_recall: 0.5981\n",
      "Epoch 6/25\n",
      "\u001b[1m1563/1563\u001b[0m \u001b[32m━━━━━━━━━━━━━━━━━━━━\u001b[0m\u001b[37m\u001b[0m \u001b[1m15s\u001b[0m 10ms/step - accuracy: 0.6981 - f1_score: 0.6967 - loss: 0.8677 - precision: 0.8011 - recall: 0.6021 - val_accuracy: 0.6987 - val_f1_score: 0.6920 - val_loss: 0.8764 - val_precision: 0.7801 - val_recall: 0.6277\n",
      "Epoch 7/25\n",
      "\u001b[1m1563/1563\u001b[0m \u001b[32m━━━━━━━━━━━━━━━━━━━━\u001b[0m\u001b[37m\u001b[0m \u001b[1m16s\u001b[0m 10ms/step - accuracy: 0.7072 - f1_score: 0.7066 - loss: 0.8373 - precision: 0.8042 - recall: 0.6160 - val_accuracy: 0.6976 - val_f1_score: 0.6887 - val_loss: 0.8986 - val_precision: 0.7784 - val_recall: 0.6299\n",
      "Epoch 8/25\n",
      "\u001b[1m1563/1563\u001b[0m \u001b[32m━━━━━━━━━━━━━━━━━━━━\u001b[0m\u001b[37m\u001b[0m \u001b[1m17s\u001b[0m 11ms/step - accuracy: 0.7226 - f1_score: 0.7219 - loss: 0.7933 - precision: 0.8135 - recall: 0.6376 - val_accuracy: 0.7052 - val_f1_score: 0.7013 - val_loss: 0.8722 - val_precision: 0.7840 - val_recall: 0.6328\n",
      "Epoch 9/25\n",
      "\u001b[1m1563/1563\u001b[0m \u001b[32m━━━━━━━━━━━━━━━━━━━━\u001b[0m\u001b[37m\u001b[0m \u001b[1m16s\u001b[0m 11ms/step - accuracy: 0.7287 - f1_score: 0.7277 - loss: 0.7735 - precision: 0.8190 - recall: 0.6478 - val_accuracy: 0.7208 - val_f1_score: 0.7166 - val_loss: 0.8297 - val_precision: 0.7893 - val_recall: 0.6619\n",
      "Epoch 10/25\n",
      "\u001b[1m1563/1563\u001b[0m \u001b[32m━━━━━━━━━━━━━━━━━━━━\u001b[0m\u001b[37m\u001b[0m \u001b[1m16s\u001b[0m 10ms/step - accuracy: 0.7390 - f1_score: 0.7383 - loss: 0.7433 - precision: 0.8234 - recall: 0.6661 - val_accuracy: 0.7135 - val_f1_score: 0.7105 - val_loss: 0.8461 - val_precision: 0.7878 - val_recall: 0.6523\n",
      "Epoch 11/25\n",
      "\u001b[1m1563/1563\u001b[0m \u001b[32m━━━━━━━━━━━━━━━━━━━━\u001b[0m\u001b[37m\u001b[0m \u001b[1m16s\u001b[0m 10ms/step - accuracy: 0.7427 - f1_score: 0.7418 - loss: 0.7271 - precision: 0.8258 - recall: 0.6705 - val_accuracy: 0.7281 - val_f1_score: 0.7257 - val_loss: 0.7999 - val_precision: 0.7960 - val_recall: 0.6692\n",
      "Epoch 12/25\n",
      "\u001b[1m1563/1563\u001b[0m \u001b[32m━━━━━━━━━━━━━━━━━━━━\u001b[0m\u001b[37m\u001b[0m \u001b[1m16s\u001b[0m 10ms/step - accuracy: 0.7550 - f1_score: 0.7543 - loss: 0.7074 - precision: 0.8323 - recall: 0.6809 - val_accuracy: 0.7134 - val_f1_score: 0.7065 - val_loss: 0.8594 - val_precision: 0.7824 - val_recall: 0.6606\n",
      "Epoch 13/25\n",
      "\u001b[1m1563/1563\u001b[0m \u001b[32m━━━━━━━━━━━━━━━━━━━━\u001b[0m\u001b[37m\u001b[0m \u001b[1m16s\u001b[0m 10ms/step - accuracy: 0.7568 - f1_score: 0.7559 - loss: 0.6955 - precision: 0.8309 - recall: 0.6861 - val_accuracy: 0.7169 - val_f1_score: 0.7126 - val_loss: 0.8656 - val_precision: 0.7747 - val_recall: 0.6635\n",
      "Epoch 14/25\n",
      "\u001b[1m1563/1563\u001b[0m \u001b[32m━━━━━━━━━━━━━━━━━━━━\u001b[0m\u001b[37m\u001b[0m \u001b[1m16s\u001b[0m 10ms/step - accuracy: 0.7641 - f1_score: 0.7634 - loss: 0.6776 - precision: 0.8373 - recall: 0.6960 - val_accuracy: 0.7210 - val_f1_score: 0.7155 - val_loss: 0.8408 - val_precision: 0.7837 - val_recall: 0.6665\n",
      "Epoch 15/25\n",
      "\u001b[1m1563/1563\u001b[0m \u001b[32m━━━━━━━━━━━━━━━━━━━━\u001b[0m\u001b[37m\u001b[0m \u001b[1m16s\u001b[0m 10ms/step - accuracy: 0.7670 - f1_score: 0.7671 - loss: 0.6626 - precision: 0.8382 - recall: 0.7017 - val_accuracy: 0.7158 - val_f1_score: 0.7101 - val_loss: 0.8519 - val_precision: 0.7830 - val_recall: 0.6594\n",
      "Epoch 16/25\n",
      "\u001b[1m1563/1563\u001b[0m \u001b[32m━━━━━━━━━━━━━━━━━━━━\u001b[0m\u001b[37m\u001b[0m \u001b[1m16s\u001b[0m 10ms/step - accuracy: 0.7734 - f1_score: 0.7721 - loss: 0.6481 - precision: 0.8440 - recall: 0.7107 - val_accuracy: 0.7208 - val_f1_score: 0.7177 - val_loss: 0.8299 - val_precision: 0.7895 - val_recall: 0.6675\n",
      "Epoch 17/25\n",
      "\u001b[1m1563/1563\u001b[0m \u001b[32m━━━━━━━━━━━━━━━━━━━━\u001b[0m\u001b[37m\u001b[0m \u001b[1m16s\u001b[0m 10ms/step - accuracy: 0.7812 - f1_score: 0.7813 - loss: 0.6276 - precision: 0.8479 - recall: 0.7195 - val_accuracy: 0.7317 - val_f1_score: 0.7280 - val_loss: 0.8130 - val_precision: 0.7991 - val_recall: 0.6719\n",
      "Epoch 18/25\n",
      "\u001b[1m1563/1563\u001b[0m \u001b[32m━━━━━━━━━━━━━━━━━━━━\u001b[0m\u001b[37m\u001b[0m \u001b[1m16s\u001b[0m 10ms/step - accuracy: 0.7823 - f1_score: 0.7819 - loss: 0.6223 - precision: 0.8495 - recall: 0.7224 - val_accuracy: 0.7378 - val_f1_score: 0.7342 - val_loss: 0.7848 - val_precision: 0.8006 - val_recall: 0.6869\n",
      "Epoch 19/25\n",
      "\u001b[1m1563/1563\u001b[0m \u001b[32m━━━━━━━━━━━━━━━━━━━━\u001b[0m\u001b[37m\u001b[0m \u001b[1m17s\u001b[0m 11ms/step - accuracy: 0.7855 - f1_score: 0.7849 - loss: 0.6127 - precision: 0.8510 - recall: 0.7260 - val_accuracy: 0.7171 - val_f1_score: 0.7133 - val_loss: 0.8824 - val_precision: 0.7713 - val_recall: 0.6769\n",
      "Epoch 20/25\n",
      "\u001b[1m1563/1563\u001b[0m \u001b[32m━━━━━━━━━━━━━━━━━━━━\u001b[0m\u001b[37m\u001b[0m \u001b[1m17s\u001b[0m 11ms/step - accuracy: 0.7888 - f1_score: 0.7889 - loss: 0.5997 - precision: 0.8509 - recall: 0.7363 - val_accuracy: 0.7432 - val_f1_score: 0.7386 - val_loss: 0.7841 - val_precision: 0.7991 - val_recall: 0.6955\n",
      "Epoch 21/25\n",
      "\u001b[1m1563/1563\u001b[0m \u001b[32m━━━━━━━━━━━━━━━━━━━━\u001b[0m\u001b[37m\u001b[0m \u001b[1m17s\u001b[0m 11ms/step - accuracy: 0.7949 - f1_score: 0.7944 - loss: 0.5842 - precision: 0.8555 - recall: 0.7372 - val_accuracy: 0.7287 - val_f1_score: 0.7251 - val_loss: 0.8177 - val_precision: 0.7945 - val_recall: 0.6759\n",
      "Epoch 22/25\n",
      "\u001b[1m1563/1563\u001b[0m \u001b[32m━━━━━━━━━━━━━━━━━━━━\u001b[0m\u001b[37m\u001b[0m \u001b[1m16s\u001b[0m 10ms/step - accuracy: 0.7941 - f1_score: 0.7938 - loss: 0.5828 - precision: 0.8546 - recall: 0.7407 - val_accuracy: 0.7456 - val_f1_score: 0.7420 - val_loss: 0.7933 - val_precision: 0.7985 - val_recall: 0.6993\n",
      "Epoch 23/25\n",
      "\u001b[1m1563/1563\u001b[0m \u001b[32m━━━━━━━━━━━━━━━━━━━━\u001b[0m\u001b[37m\u001b[0m \u001b[1m16s\u001b[0m 10ms/step - accuracy: 0.7952 - f1_score: 0.7951 - loss: 0.5780 - precision: 0.8546 - recall: 0.7438 - val_accuracy: 0.7340 - val_f1_score: 0.7292 - val_loss: 0.8469 - val_precision: 0.7856 - val_recall: 0.6897\n",
      "Epoch 24/25\n",
      "\u001b[1m1563/1563\u001b[0m \u001b[32m━━━━━━━━━━━━━━━━━━━━\u001b[0m\u001b[37m\u001b[0m \u001b[1m16s\u001b[0m 10ms/step - accuracy: 0.8026 - f1_score: 0.8021 - loss: 0.5569 - precision: 0.8590 - recall: 0.7527 - val_accuracy: 0.7322 - val_f1_score: 0.7310 - val_loss: 0.8278 - val_precision: 0.7861 - val_recall: 0.6876\n",
      "Epoch 25/25\n",
      "\u001b[1m1563/1563\u001b[0m \u001b[32m━━━━━━━━━━━━━━━━━━━━\u001b[0m\u001b[37m\u001b[0m \u001b[1m16s\u001b[0m 10ms/step - accuracy: 0.8070 - f1_score: 0.8059 - loss: 0.5518 - precision: 0.8623 - recall: 0.7569 - val_accuracy: 0.7398 - val_f1_score: 0.7391 - val_loss: 0.7972 - val_precision: 0.7926 - val_recall: 0.6997\n"
     ]
    }
   ],
   "source": [
    "# Train the model using the generated and augmented data\n",
    "history = cnn.fit(\n",
    "    train_generator,\n",
    "    epochs=25,\n",
    "    validation_data=test_generator\n",
    ")"
   ]
  },
  {
   "cell_type": "markdown",
   "metadata": {},
   "source": [
    "### 6. PERFORMANCE ANALYSIS"
   ]
  },
  {
   "cell_type": "code",
   "execution_count": 22,
   "metadata": {},
   "outputs": [
    {
     "data": {
      "image/png": "[encoded data removed]",
      "text/plain": [
       "<Figure size 640x480 with 1 Axes>"
      ]
     },
     "metadata": {},
     "output_type": "display_data"
    }
   ],
   "source": [
    "# Plot training & validation accuracy values\n",
    "plt.plot(history.history['accuracy'])\n",
    "plt.plot(history.history['val_accuracy'])\n",
    "plt.title('Model accuracy')\n",
    "plt.ylabel('Accuracy')\n",
    "plt.xlabel('Epoch')\n",
    "plt.legend(['Train', 'Validation'], loc='upper left')\n",
    "plt.show()"
   ]
  },
  {
   "cell_type": "markdown",
   "metadata": {},
   "source": [
    "The results highlights the following points:\n",
    "- The training accuracy steadily increases as the number of epochs increases. This indicates that the model is learning and improving its performance on the training data.\n",
    "- The validation accuracy initially increases as the model learns more representations from the training data.\n",
    "- However, after reaching a peak around the 9th epoch, the validation accuracy starts to fluctuate. This might indicate that the model is beginning to overfit, as it fails to generalize well to unseen data.\n",
    "- The gap between training and validation accuracy starts to widen after a certain point, indicating increasing overfitting as training progresses.\n",
    "- To address overfitting, techniques such as regularization (e.g., dropout, weight decay), early stopping, or data augmentation could be applied.\n",
    "\n",
    "In summary, while the model shows promising learning capabilities initially, it demonstrates signs of overfitting later in the training process. Further optimization and regularization techniques are needed to improve generalization performance."
   ]
  }
 ],
 "metadata": {
  "kernelspec": {
   "display_name": "dl_course",
   "language": "python",
   "name": "python3"
  },
  "language_info": {
   "codemirror_mode": {
    "name": "ipython",
    "version": 3
   },
   "file_extension": ".py",
   "mimetype": "text/x-python",
   "name": "python",
   "nbconvert_exporter": "python",
   "pygments_lexer": "ipython3",
   "version": "3.11.8"
  }
 },
 "nbformat": 4,
 "nbformat_minor": 2
}
