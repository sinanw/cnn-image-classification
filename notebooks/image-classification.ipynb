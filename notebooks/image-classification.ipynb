{
 "cells": [
  {
   "cell_type": "markdown",
   "metadata": {},
   "source": [
    "# Convolutional Neural Networks - Image Classification"
   ]
  },
  {
   "cell_type": "markdown",
   "metadata": {},
   "source": [
    "### 1. INITIALIZATION"
   ]
  },
  {
   "cell_type": "code",
   "execution_count": 36,
   "metadata": {},
   "outputs": [],
   "source": [
    "# Import necessary libraries and modules\n",
    "import tensorflow as tf\n",
    "from tensorflow.keras.preprocessing.image import ImageDataGenerator\n",
    "import matplotlib.pyplot as plt\n",
    "from tensorflow.keras.layers import Conv2D, MaxPool2D, Dense, Flatten, Dropout, Input\n",
    "from tensorflow.keras.models import Sequential"
   ]
  },
  {
   "cell_type": "code",
   "execution_count": 37,
   "metadata": {},
   "outputs": [
    {
     "data": {
      "text/plain": [
       "'2.16.1'"
      ]
     },
     "execution_count": 37,
     "metadata": {},
     "output_type": "execute_result"
    }
   ],
   "source": [
    "# Check tensorflow version\n",
    "tf.__version__"
   ]
  },
  {
   "cell_type": "markdown",
   "metadata": {},
   "source": [
    "### 2. LOADING DATASET"
   ]
  },
  {
   "cell_type": "markdown",
   "metadata": {},
   "source": [
    "The dataset used is [CIFAR-10](https://www.cs.toronto.edu/~kriz/cifar.html), which is a widely used benchmark dataset in the field of computer vision and machine learning. It consists of 60,000 32x32 color images in 10 classes, with 6,000 images per class. It serves as a standard dataset for training and evaluating machine learning algorithms, particularly for image classification tasks.\n",
    "\n",
    "The classes are: airplane, automobile, bird, cat, deer, dog, frog, horse, ship, and truck."
   ]
  },
  {
   "cell_type": "code",
   "execution_count": 38,
   "metadata": {},
   "outputs": [],
   "source": [
    "# Loading the dataset from keras library\n",
    "from keras.datasets import cifar10 \n",
    "(X_train, y_train), (X_test, y_test) = cifar10.load_data()"
   ]
  },
  {
   "cell_type": "code",
   "execution_count": 39,
   "metadata": {},
   "outputs": [
    {
     "name": "stdout",
     "output_type": "stream",
     "text": [
      "X Train: (50000, 32, 32, 3) \n",
      "X Test: (10000, 32, 32, 3) \n",
      "y Train: (50000, 1) \n",
      "y test: (10000, 1)\n"
     ]
    }
   ],
   "source": [
    "# Check imported dataset details\n",
    "print(\"X Train: {} \\nX Test: {} \\ny Train: {} \\ny test: {}\".format(X_train.shape, X_test.shape, y_train.shape, y_test.shape))"
   ]
  },
  {
   "cell_type": "markdown",
   "metadata": {},
   "source": [
    "As we see here, the dataset comprises 50,000 training images and 10,000 test images, each with a resolution of 32x32 pixels and three color channels (RGB). Additionally, the dataset includes corresponding labels for both training and test sets, each represented as a single column array."
   ]
  },
  {
   "cell_type": "markdown",
   "metadata": {},
   "source": [
    "### 3. IMAGE PREPROCESSING"
   ]
  },
  {
   "cell_type": "markdown",
   "metadata": {},
   "source": [
    "Since we are dealing with a CNN model with multi class predictions, the true labels should be compatible with the output of CNN model. Thus, we have to convert the class labels into one-hot encoded vectors to represent them in a format that's more suitable for training a neural network."
   ]
  },
  {
   "cell_type": "code",
   "execution_count": 40,
   "metadata": {},
   "outputs": [],
   "source": [
    "# Convert target data to one-hot encoding\n",
    "y_train = tf.keras.utils.to_categorical(y_train, num_classes=10)\n",
    "y_test = tf.keras.utils.to_categorical(y_test, num_classes=10)"
   ]
  },
  {
   "cell_type": "markdown",
   "metadata": {},
   "source": [
    "Implementing data augmentation and image transformations to avoid over fitting. This helps to increase the diversity of the dataset and improve the generalization ability of the CNN model.\n",
    "\n",
    "Transformations of training images are:\n",
    "- Scales the pixel values of the images to be in the range [0, 1].\n",
    "- Randomly applies shear transformations to the images.\n",
    "- Randomly applies zoom transformations to the images.\n",
    "- Randomly flips images horizontally."
   ]
  },
  {
   "cell_type": "code",
   "execution_count": 41,
   "metadata": {},
   "outputs": [],
   "source": [
    "# Initialize ImageDataGenerator for training data\n",
    "train_datagen = ImageDataGenerator(\n",
    "    rescale = 1./255,\n",
    "    shear_range = 0.2,\n",
    "    zoom_range = 0.2,\n",
    "    horizontal_flip = True\n",
    ")"
   ]
  },
  {
   "cell_type": "code",
   "execution_count": 42,
   "metadata": {},
   "outputs": [],
   "source": [
    "# Generate augmented training data batches\n",
    "train_generator = train_datagen.flow(\n",
    "    X_train, y_train,\n",
    "    batch_size = 32\n",
    ")"
   ]
  },
  {
   "cell_type": "markdown",
   "metadata": {},
   "source": [
    "To avoid data leakage and over fitting, only pixel scaling is implemented on testing images."
   ]
  },
  {
   "cell_type": "code",
   "execution_count": 43,
   "metadata": {},
   "outputs": [],
   "source": [
    "# Initialize ImageDataGenerator for testing data\n",
    "test_datagen = ImageDataGenerator(\n",
    "    rescale = 1./255\n",
    ")"
   ]
  },
  {
   "cell_type": "code",
   "execution_count": 44,
   "metadata": {},
   "outputs": [],
   "source": [
    "# Generate augmented testing data batches\n",
    "test_generator = test_datagen.flow(\n",
    "    X_test, y_test,\n",
    "    batch_size = 32\n",
    ")"
   ]
  },
  {
   "cell_type": "markdown",
   "metadata": {},
   "source": [
    "### 4. BUILDING CNN MODEL"
   ]
  },
  {
   "cell_type": "markdown",
   "metadata": {},
   "source": [
    "#### Initializing CNN model"
   ]
  },
  {
   "cell_type": "code",
   "execution_count": 45,
   "metadata": {},
   "outputs": [],
   "source": [
    "# Initializing cnn model\n",
    "cnn = Sequential()"
   ]
  },
  {
   "cell_type": "markdown",
   "metadata": {},
   "source": [
    "#### Input layer"
   ]
  },
  {
   "cell_type": "code",
   "execution_count": 46,
   "metadata": {},
   "outputs": [],
   "source": [
    "# Add input layer\n",
    "cnn.add(Input(shape=(32, 32, 3)))"
   ]
  },
  {
   "cell_type": "markdown",
   "metadata": {},
   "source": [
    "#### Convolutional layers"
   ]
  },
  {
   "cell_type": "markdown",
   "metadata": {},
   "source": [
    "We use 2 convolutional layers with an increasing number of filters to allow the model to capture more complex patterns in the images.\n",
    "\n",
    "Convolutional layers are followed by max pooling layers to reduce the spatial dimensions of the feature maps and help in controlling overfitting by providing translation invariance."
   ]
  },
  {
   "cell_type": "code",
   "execution_count": 47,
   "metadata": {},
   "outputs": [],
   "source": [
    "# Add first convolutional layer\n",
    "cnn.add(Conv2D(filters=32, kernel_size=(3,3), strides=(1,1), activation=\"relu\"))"
   ]
  },
  {
   "cell_type": "code",
   "execution_count": 48,
   "metadata": {},
   "outputs": [],
   "source": [
    "# Add first pooling layer\n",
    "cnn.add(MaxPool2D(pool_size=(2,2), strides=2))"
   ]
  },
  {
   "cell_type": "code",
   "execution_count": 49,
   "metadata": {},
   "outputs": [],
   "source": [
    "# Add second convolutional layer\n",
    "cnn.add(Conv2D(filters=64, kernel_size=(3,3), strides=(1,1), activation=\"relu\"))"
   ]
  },
  {
   "cell_type": "code",
   "execution_count": 50,
   "metadata": {},
   "outputs": [],
   "source": [
    "# Add second pooling layer\n",
    "cnn.add(MaxPool2D(pool_size=(2,2), strides=2))"
   ]
  },
  {
   "cell_type": "markdown",
   "metadata": {},
   "source": [
    "#### Flattening layer"
   ]
  },
  {
   "cell_type": "markdown",
   "metadata": {},
   "source": [
    "This layer flattens the output from the convolutional layers into a one-dimensional vector, preparing it to be inputted into the dense layers."
   ]
  },
  {
   "cell_type": "code",
   "execution_count": 51,
   "metadata": {},
   "outputs": [],
   "source": [
    "# Add flattening layer\n",
    "cnn.add(Flatten())"
   ]
  },
  {
   "cell_type": "markdown",
   "metadata": {},
   "source": [
    "#### Fully connected layers"
   ]
  },
  {
   "cell_type": "markdown",
   "metadata": {},
   "source": [
    "We use a dense layer as a fully connected layer to learn high-level features from the flattened input. Another dense layer is also added to further refining the learned features.\n"
   ]
  },
  {
   "cell_type": "code",
   "execution_count": 52,
   "metadata": {},
   "outputs": [],
   "source": [
    "# Add first fully connected layer\n",
    "cnn.add(Dense(units=128, activation=\"relu\"))"
   ]
  },
  {
   "cell_type": "code",
   "execution_count": 53,
   "metadata": {},
   "outputs": [],
   "source": [
    "# Add second fully connected layer\n",
    "cnn.add(Dense(units=64, activation=\"relu\"))"
   ]
  },
  {
   "cell_type": "markdown",
   "metadata": {},
   "source": [
    "#### Output layer"
   ]
  },
  {
   "cell_type": "markdown",
   "metadata": {},
   "source": [
    "The final dense layer has 10 units (equal to the number of classes in the classification task) with a softmax activation, producing probabilities for each class."
   ]
  },
  {
   "cell_type": "code",
   "execution_count": 54,
   "metadata": {},
   "outputs": [],
   "source": [
    "# Add output layer\n",
    "cnn.add(Dense(units=10, activation=\"softmax\"))"
   ]
  },
  {
   "cell_type": "markdown",
   "metadata": {},
   "source": [
    "### 5. TRAINING CNN MODEL"
   ]
  },
  {
   "cell_type": "markdown",
   "metadata": {},
   "source": [
    "#### Compile CNN model"
   ]
  },
  {
   "cell_type": "code",
   "execution_count": 55,
   "metadata": {},
   "outputs": [],
   "source": [
    "# Compiling the sequential model\n",
    "cnn.compile(optimizer=\"adam\", loss=\"categorical_crossentropy\", metrics=[\"accuracy\", \"precision\", \"recall\", \"f1_score\"])"
   ]
  },
  {
   "cell_type": "markdown",
   "metadata": {},
   "source": [
    "#### Train CNN model"
   ]
  },
  {
   "cell_type": "code",
   "execution_count": 56,
   "metadata": {},
   "outputs": [
    {
     "name": "stdout",
     "output_type": "stream",
     "text": [
      "Epoch 1/25\n",
      "\u001b[1m  13/1563\u001b[0m \u001b[37m━━━━━━━━━━━━━━━━━━━━\u001b[0m \u001b[1m13s\u001b[0m 9ms/step - accuracy: 0.1236 - f1_score: 0.0572 - loss: 2.3201 - precision: 0.0000e+00 - recall: 0.0000e+00 "
     ]
    },
    {
     "name": "stderr",
     "output_type": "stream",
     "text": [
      "c:\\Users\\SinanWannous\\anaconda3\\envs\\dl_course\\Lib\\site-packages\\keras\\src\\trainers\\data_adapters\\py_dataset_adapter.py:122: UserWarning: Your `PyDataset` class should call `super().__init__(**kwargs)` in its constructor. `**kwargs` can include `workers`, `use_multiprocessing`, `max_queue_size`. Do not pass these arguments to `fit()`, as they will be ignored.\n",
      "  self._warn_if_super_not_called()\n"
     ]
    },
    {
     "name": "stdout",
     "output_type": "stream",
     "text": [
      "\u001b[1m1563/1563\u001b[0m \u001b[32m━━━━━━━━━━━━━━━━━━━━\u001b[0m\u001b[37m\u001b[0m \u001b[1m17s\u001b[0m 10ms/step - accuracy: 0.3632 - f1_score: 0.3516 - loss: 1.7345 - precision: 0.6360 - recall: 0.1229 - val_accuracy: 0.5487 - val_f1_score: 0.5378 - val_loss: 1.2482 - val_precision: 0.6962 - val_recall: 0.3863\n",
      "Epoch 2/25\n",
      "\u001b[1m1563/1563\u001b[0m \u001b[32m━━━━━━━━━━━━━━━━━━━━\u001b[0m\u001b[37m\u001b[0m \u001b[1m15s\u001b[0m 10ms/step - accuracy: 0.5627 - f1_score: 0.5597 - loss: 1.2343 - precision: 0.7320 - recall: 0.3873 - val_accuracy: 0.6293 - val_f1_score: 0.6203 - val_loss: 1.0494 - val_precision: 0.7572 - val_recall: 0.4986\n",
      "Epoch 3/25\n",
      "\u001b[1m1563/1563\u001b[0m \u001b[32m━━━━━━━━━━━━━━━━━━━━\u001b[0m\u001b[37m\u001b[0m \u001b[1m16s\u001b[0m 10ms/step - accuracy: 0.6259 - f1_score: 0.6244 - loss: 1.0616 - precision: 0.7604 - recall: 0.4883 - val_accuracy: 0.6588 - val_f1_score: 0.6487 - val_loss: 0.9882 - val_precision: 0.7717 - val_recall: 0.5391\n",
      "Epoch 4/25\n",
      "\u001b[1m1563/1563\u001b[0m \u001b[32m━━━━━━━━━━━━━━━━━━━━\u001b[0m\u001b[37m\u001b[0m \u001b[1m16s\u001b[0m 10ms/step - accuracy: 0.6562 - f1_score: 0.6536 - loss: 0.9794 - precision: 0.7791 - recall: 0.5380 - val_accuracy: 0.6594 - val_f1_score: 0.6505 - val_loss: 0.9898 - val_precision: 0.7455 - val_recall: 0.5798\n",
      "Epoch 5/25\n",
      "\u001b[1m1563/1563\u001b[0m \u001b[32m━━━━━━━━━━━━━━━━━━━━\u001b[0m\u001b[37m\u001b[0m \u001b[1m16s\u001b[0m 10ms/step - accuracy: 0.6801 - f1_score: 0.6787 - loss: 0.9146 - precision: 0.7899 - recall: 0.5748 - val_accuracy: 0.6848 - val_f1_score: 0.6820 - val_loss: 0.9209 - val_precision: 0.7789 - val_recall: 0.5949\n",
      "Epoch 6/25\n",
      "\u001b[1m1563/1563\u001b[0m \u001b[32m━━━━━━━━━━━━━━━━━━━━\u001b[0m\u001b[37m\u001b[0m \u001b[1m16s\u001b[0m 10ms/step - accuracy: 0.6941 - f1_score: 0.6928 - loss: 0.8791 - precision: 0.7982 - recall: 0.5930 - val_accuracy: 0.6994 - val_f1_score: 0.6938 - val_loss: 0.8791 - val_precision: 0.7949 - val_recall: 0.6063\n",
      "Epoch 7/25\n",
      "\u001b[1m1563/1563\u001b[0m \u001b[32m━━━━━━━━━━━━━━━━━━━━\u001b[0m\u001b[37m\u001b[0m \u001b[1m15s\u001b[0m 10ms/step - accuracy: 0.7057 - f1_score: 0.7048 - loss: 0.8359 - precision: 0.8066 - recall: 0.6142 - val_accuracy: 0.6840 - val_f1_score: 0.6781 - val_loss: 0.9326 - val_precision: 0.7673 - val_recall: 0.6111\n",
      "Epoch 8/25\n",
      "\u001b[1m1563/1563\u001b[0m \u001b[32m━━━━━━━━━━━━━━━━━━━━\u001b[0m\u001b[37m\u001b[0m \u001b[1m16s\u001b[0m 10ms/step - accuracy: 0.7207 - f1_score: 0.7204 - loss: 0.8024 - precision: 0.8130 - recall: 0.6315 - val_accuracy: 0.7151 - val_f1_score: 0.7121 - val_loss: 0.8236 - val_precision: 0.7996 - val_recall: 0.6398\n",
      "Epoch 9/25\n",
      "\u001b[1m1563/1563\u001b[0m \u001b[32m━━━━━━━━━━━━━━━━━━━━\u001b[0m\u001b[37m\u001b[0m \u001b[1m16s\u001b[0m 10ms/step - accuracy: 0.7312 - f1_score: 0.7302 - loss: 0.7682 - precision: 0.8215 - recall: 0.6493 - val_accuracy: 0.7251 - val_f1_score: 0.7253 - val_loss: 0.7968 - val_precision: 0.7988 - val_recall: 0.6676\n",
      "Epoch 10/25\n",
      "\u001b[1m1563/1563\u001b[0m \u001b[32m━━━━━━━━━━━━━━━━━━━━\u001b[0m\u001b[37m\u001b[0m \u001b[1m16s\u001b[0m 10ms/step - accuracy: 0.7426 - f1_score: 0.7418 - loss: 0.7330 - precision: 0.8225 - recall: 0.6652 - val_accuracy: 0.7209 - val_f1_score: 0.7166 - val_loss: 0.8183 - val_precision: 0.7950 - val_recall: 0.6524\n",
      "Epoch 11/25\n",
      "\u001b[1m1563/1563\u001b[0m \u001b[32m━━━━━━━━━━━━━━━━━━━━\u001b[0m\u001b[37m\u001b[0m \u001b[1m16s\u001b[0m 10ms/step - accuracy: 0.7474 - f1_score: 0.7462 - loss: 0.7213 - precision: 0.8279 - recall: 0.6720 - val_accuracy: 0.7212 - val_f1_score: 0.7160 - val_loss: 0.8282 - val_precision: 0.7871 - val_recall: 0.6621\n",
      "Epoch 12/25\n",
      "\u001b[1m1563/1563\u001b[0m \u001b[32m━━━━━━━━━━━━━━━━━━━━\u001b[0m\u001b[37m\u001b[0m \u001b[1m15s\u001b[0m 10ms/step - accuracy: 0.7586 - f1_score: 0.7577 - loss: 0.6923 - precision: 0.8361 - recall: 0.6870 - val_accuracy: 0.7339 - val_f1_score: 0.7351 - val_loss: 0.7878 - val_precision: 0.8006 - val_recall: 0.6784\n",
      "Epoch 13/25\n",
      "\u001b[1m1563/1563\u001b[0m \u001b[32m━━━━━━━━━━━━━━━━━━━━\u001b[0m\u001b[37m\u001b[0m \u001b[1m15s\u001b[0m 10ms/step - accuracy: 0.7568 - f1_score: 0.7564 - loss: 0.6933 - precision: 0.8323 - recall: 0.6870 - val_accuracy: 0.7389 - val_f1_score: 0.7375 - val_loss: 0.7900 - val_precision: 0.8000 - val_recall: 0.6886\n",
      "Epoch 14/25\n",
      "\u001b[1m1563/1563\u001b[0m \u001b[32m━━━━━━━━━━━━━━━━━━━━\u001b[0m\u001b[37m\u001b[0m \u001b[1m15s\u001b[0m 10ms/step - accuracy: 0.7670 - f1_score: 0.7660 - loss: 0.6663 - precision: 0.8381 - recall: 0.7012 - val_accuracy: 0.7342 - val_f1_score: 0.7347 - val_loss: 0.7885 - val_precision: 0.7898 - val_recall: 0.6878\n",
      "Epoch 15/25\n",
      "\u001b[1m1563/1563\u001b[0m \u001b[32m━━━━━━━━━━━━━━━━━━━━\u001b[0m\u001b[37m\u001b[0m \u001b[1m15s\u001b[0m 10ms/step - accuracy: 0.7685 - f1_score: 0.7679 - loss: 0.6554 - precision: 0.8394 - recall: 0.7049 - val_accuracy: 0.7314 - val_f1_score: 0.7288 - val_loss: 0.8093 - val_precision: 0.7993 - val_recall: 0.6787\n",
      "Epoch 16/25\n",
      "\u001b[1m1563/1563\u001b[0m \u001b[32m━━━━━━━━━━━━━━━━━━━━\u001b[0m\u001b[37m\u001b[0m \u001b[1m16s\u001b[0m 10ms/step - accuracy: 0.7751 - f1_score: 0.7748 - loss: 0.6406 - precision: 0.8426 - recall: 0.7128 - val_accuracy: 0.7261 - val_f1_score: 0.7207 - val_loss: 0.8472 - val_precision: 0.7862 - val_recall: 0.6811\n",
      "Epoch 17/25\n",
      "\u001b[1m1563/1563\u001b[0m \u001b[32m━━━━━━━━━━━━━━━━━━━━\u001b[0m\u001b[37m\u001b[0m \u001b[1m15s\u001b[0m 10ms/step - accuracy: 0.7799 - f1_score: 0.7790 - loss: 0.6350 - precision: 0.8460 - recall: 0.7193 - val_accuracy: 0.7327 - val_f1_score: 0.7273 - val_loss: 0.7932 - val_precision: 0.8054 - val_recall: 0.6750\n",
      "Epoch 18/25\n",
      "\u001b[1m1563/1563\u001b[0m \u001b[32m━━━━━━━━━━━━━━━━━━━━\u001b[0m\u001b[37m\u001b[0m \u001b[1m16s\u001b[0m 10ms/step - accuracy: 0.7815 - f1_score: 0.7807 - loss: 0.6212 - precision: 0.8466 - recall: 0.7236 - val_accuracy: 0.7383 - val_f1_score: 0.7345 - val_loss: 0.7782 - val_precision: 0.8000 - val_recall: 0.6875\n",
      "Epoch 19/25\n",
      "\u001b[1m1563/1563\u001b[0m \u001b[32m━━━━━━━━━━━━━━━━━━━━\u001b[0m\u001b[37m\u001b[0m \u001b[1m15s\u001b[0m 10ms/step - accuracy: 0.7866 - f1_score: 0.7868 - loss: 0.6047 - precision: 0.8506 - recall: 0.7292 - val_accuracy: 0.7429 - val_f1_score: 0.7410 - val_loss: 0.7913 - val_precision: 0.7995 - val_recall: 0.7006\n",
      "Epoch 20/25\n",
      "\u001b[1m1563/1563\u001b[0m \u001b[32m━━━━━━━━━━━━━━━━━━━━\u001b[0m\u001b[37m\u001b[0m \u001b[1m15s\u001b[0m 10ms/step - accuracy: 0.7910 - f1_score: 0.7903 - loss: 0.5944 - precision: 0.8512 - recall: 0.7350 - val_accuracy: 0.7327 - val_f1_score: 0.7275 - val_loss: 0.8212 - val_precision: 0.7939 - val_recall: 0.6851\n",
      "Epoch 21/25\n",
      "\u001b[1m1563/1563\u001b[0m \u001b[32m━━━━━━━━━━━━━━━━━━━━\u001b[0m\u001b[37m\u001b[0m \u001b[1m15s\u001b[0m 10ms/step - accuracy: 0.7994 - f1_score: 0.7982 - loss: 0.5776 - precision: 0.8571 - recall: 0.7455 - val_accuracy: 0.7361 - val_f1_score: 0.7310 - val_loss: 0.8320 - val_precision: 0.7878 - val_recall: 0.6972\n",
      "Epoch 22/25\n",
      "\u001b[1m1563/1563\u001b[0m \u001b[32m━━━━━━━━━━━━━━━━━━━━\u001b[0m\u001b[37m\u001b[0m \u001b[1m16s\u001b[0m 10ms/step - accuracy: 0.8009 - f1_score: 0.7998 - loss: 0.5717 - precision: 0.8576 - recall: 0.7449 - val_accuracy: 0.7473 - val_f1_score: 0.7443 - val_loss: 0.7912 - val_precision: 0.7982 - val_recall: 0.7060\n",
      "Epoch 23/25\n",
      "\u001b[1m1563/1563\u001b[0m \u001b[32m━━━━━━━━━━━━━━━━━━━━\u001b[0m\u001b[37m\u001b[0m \u001b[1m15s\u001b[0m 10ms/step - accuracy: 0.7995 - f1_score: 0.7991 - loss: 0.5691 - precision: 0.8551 - recall: 0.7482 - val_accuracy: 0.7280 - val_f1_score: 0.7232 - val_loss: 0.8421 - val_precision: 0.7814 - val_recall: 0.6880\n",
      "Epoch 24/25\n",
      "\u001b[1m1563/1563\u001b[0m \u001b[32m━━━━━━━━━━━━━━━━━━━━\u001b[0m\u001b[37m\u001b[0m \u001b[1m16s\u001b[0m 10ms/step - accuracy: 0.8046 - f1_score: 0.8035 - loss: 0.5534 - precision: 0.8584 - recall: 0.7581 - val_accuracy: 0.7416 - val_f1_score: 0.7397 - val_loss: 0.7839 - val_precision: 0.7982 - val_recall: 0.6988\n",
      "Epoch 25/25\n",
      "\u001b[1m1563/1563\u001b[0m \u001b[32m━━━━━━━━━━━━━━━━━━━━\u001b[0m\u001b[37m\u001b[0m \u001b[1m15s\u001b[0m 10ms/step - accuracy: 0.8074 - f1_score: 0.8073 - loss: 0.5441 - precision: 0.8630 - recall: 0.7603 - val_accuracy: 0.7444 - val_f1_score: 0.7384 - val_loss: 0.7941 - val_precision: 0.7963 - val_recall: 0.7025\n"
     ]
    }
   ],
   "source": [
    "# Train the model using the generated and augmented data\n",
    "history = cnn.fit(\n",
    "    train_generator,\n",
    "    epochs=25,\n",
    "    validation_data=test_generator\n",
    ")"
   ]
  },
  {
   "cell_type": "markdown",
   "metadata": {},
   "source": [
    "### 6. PERFORMANCE ANALYSIS"
   ]
  },
  {
   "cell_type": "code",
   "execution_count": 57,
   "metadata": {},
   "outputs": [
    {
     "data": {
      "image/png": "[encoded data removed]",
      "text/plain": [
       "<Figure size 640x480 with 1 Axes>"
      ]
     },
     "metadata": {},
     "output_type": "display_data"
    }
   ],
   "source": [
    "# Plot training & validation accuracy values\n",
    "plt.plot(history.history['accuracy'])\n",
    "plt.plot(history.history['val_accuracy'])\n",
    "plt.title('Model accuracy')\n",
    "plt.ylabel('Accuracy')\n",
    "plt.xlabel('Epoch')\n",
    "plt.legend(['Train', 'Validation'], loc='upper left')\n",
    "plt.show()"
   ]
  }
 ],
 "metadata": {
  "kernelspec": {
   "display_name": "dl_course",
   "language": "python",
   "name": "python3"
  },
  "language_info": {
   "codemirror_mode": {
    "name": "ipython",
    "version": 3
   },
   "file_extension": ".py",
   "mimetype": "text/x-python",
   "name": "python",
   "nbconvert_exporter": "python",
   "pygments_lexer": "ipython3",
   "version": "3.11.8"
  }
 },
 "nbformat": 4,
 "nbformat_minor": 2
}
