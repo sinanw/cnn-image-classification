{
 "cells": [
  {
   "cell_type": "markdown",
   "metadata": {},
   "source": [
    "# Convolutional Neural Networks - Image Classification"
   ]
  },
  {
   "cell_type": "markdown",
   "metadata": {},
   "source": [
    "### 1. INITIALIZATION"
   ]
  },
  {
   "cell_type": "code",
   "execution_count": 6,
   "metadata": {},
   "outputs": [],
   "source": [
    "# Import necessary libraries and modules\n",
    "import tensorflow as tf\n",
    "from tensorflow.keras.preprocessing.image import ImageDataGenerator\n",
    "import matplotlib.pyplot as plt\n",
    "\n",
    "#https://www.analyticsvidhya.com/blog/2020/02/learn-image-classification-cnn-convolutional-neural-networks-3-datasets/"
   ]
  },
  {
   "cell_type": "code",
   "execution_count": 7,
   "metadata": {},
   "outputs": [
    {
     "data": {
      "text/plain": [
       "'2.16.1'"
      ]
     },
     "execution_count": 7,
     "metadata": {},
     "output_type": "execute_result"
    }
   ],
   "source": [
    "# Check tensorflow version\n",
    "tf.__version__"
   ]
  },
  {
   "cell_type": "markdown",
   "metadata": {},
   "source": [
    "### 2. LOADING DATASET"
   ]
  },
  {
   "cell_type": "markdown",
   "metadata": {},
   "source": [
    "The dataset used is CIFAR-10, it contains 60k (50k training and 10k testing) coloured images with 10 classes."
   ]
  },
  {
   "cell_type": "code",
   "execution_count": 8,
   "metadata": {},
   "outputs": [],
   "source": [
    "# Loading the dataset from keras library\n",
    "from keras.datasets import cifar10 \n",
    "(X_train, y_train), (X_test, y_test) = cifar10.load_data()"
   ]
  },
  {
   "cell_type": "code",
   "execution_count": 9,
   "metadata": {},
   "outputs": [
    {
     "name": "stdout",
     "output_type": "stream",
     "text": [
      "X Train: (50000, 32, 32, 3) \n",
      "X Test: (10000, 32, 32, 3) \n",
      "y Train: (50000, 1) \n",
      "y test: (10000, 1)\n"
     ]
    }
   ],
   "source": [
    "# Check imported dataset details\n",
    "print(\"X Train: {} \\nX Test: {} \\ny Train: {} \\ny test: {}\".format(X_train.shape, X_test.shape, y_train.shape, y_test.shape))"
   ]
  },
  {
   "cell_type": "markdown",
   "metadata": {},
   "source": [
    "### 3. IMAGE PREPROCESSING"
   ]
  },
  {
   "cell_type": "code",
   "execution_count": 10,
   "metadata": {},
   "outputs": [],
   "source": [
    "# Convert target data to one-hot encoding\n",
    "y_train = tf.keras.utils.to_categorical(y_train, num_classes=10)\n",
    "y_test = tf.keras.utils.to_categorical(y_test, num_classes=10)"
   ]
  },
  {
   "cell_type": "markdown",
   "metadata": {},
   "source": [
    "Implementing image transformations to avoid over fitting"
   ]
  },
  {
   "cell_type": "code",
   "execution_count": 11,
   "metadata": {},
   "outputs": [],
   "source": [
    "# Initialize ImageDataGenerator for training data\n",
    "train_datagen = ImageDataGenerator(\n",
    "    rescale = 1./255,\n",
    "    shear_range = 0.2,\n",
    "    zoom_range = 0.2,\n",
    "    horizontal_flip = True\n",
    ")\n",
    "\n",
    "# Generate augmented training data batches\n",
    "train_generator = train_datagen.flow(\n",
    "    X_train, y_train,\n",
    "    batch_size=32\n",
    ")"
   ]
  },
  {
   "cell_type": "code",
   "execution_count": 12,
   "metadata": {},
   "outputs": [],
   "source": [
    "# Initialize ImageDataGenerator for testing data\n",
    "test_datagen = ImageDataGenerator(\n",
    "    rescale = 1./255\n",
    ")\n",
    "\n",
    "# Generate augmented testing data batches\n",
    "test_generator = test_datagen.flow(\n",
    "    X_test, y_test,\n",
    "    batch_size=32\n",
    ")"
   ]
  },
  {
   "cell_type": "markdown",
   "metadata": {},
   "source": [
    "### 4. BUILDING CNN MODEL"
   ]
  },
  {
   "cell_type": "code",
   "execution_count": 13,
   "metadata": {},
   "outputs": [],
   "source": [
    "# Initializing cnn model\n",
    "cnn = tf.keras.models.Sequential()"
   ]
  },
  {
   "cell_type": "code",
   "execution_count": 14,
   "metadata": {},
   "outputs": [
    {
     "name": "stderr",
     "output_type": "stream",
     "text": [
      "c:\\Users\\SinanWannous\\anaconda3\\envs\\dl_course\\Lib\\site-packages\\keras\\src\\layers\\convolutional\\base_conv.py:99: UserWarning: Do not pass an `input_shape`/`input_dim` argument to a layer. When using Sequential models, prefer using an `Input(shape)` object as the first layer in the model instead.\n",
      "  super().__init__(\n"
     ]
    }
   ],
   "source": [
    "# Add input layer and first convolutional layer\n",
    "cnn.add(tf.keras.layers.Conv2D(filters=32, kernel_size=3, activation=\"relu\", input_shape=[32, 32, 3]))"
   ]
  },
  {
   "cell_type": "code",
   "execution_count": 15,
   "metadata": {},
   "outputs": [],
   "source": [
    "# Add first pooling layer\n",
    "cnn.add(tf.keras.layers.MaxPool2D(pool_size=2, strides=2))"
   ]
  },
  {
   "cell_type": "code",
   "execution_count": 16,
   "metadata": {},
   "outputs": [],
   "source": [
    "# Add second convolutional layer\n",
    "cnn.add(tf.keras.layers.Conv2D(filters=32, kernel_size=3, activation=\"relu\"))"
   ]
  },
  {
   "cell_type": "code",
   "execution_count": 17,
   "metadata": {},
   "outputs": [],
   "source": [
    "# Add second pooling layer\n",
    "cnn.add(tf.keras.layers.MaxPool2D(pool_size=2, strides=2))"
   ]
  },
  {
   "cell_type": "code",
   "execution_count": 18,
   "metadata": {},
   "outputs": [],
   "source": [
    "# Add flattening layer\n",
    "cnn.add(tf.keras.layers.Flatten())"
   ]
  },
  {
   "cell_type": "code",
   "execution_count": 19,
   "metadata": {},
   "outputs": [],
   "source": [
    "# Add fully connected layer\n",
    "cnn.add(tf.keras.layers.Dense(units=128, activation=\"relu\"))"
   ]
  },
  {
   "cell_type": "code",
   "execution_count": 20,
   "metadata": {},
   "outputs": [],
   "source": [
    "# Add output layer\n",
    "cnn.add(tf.keras.layers.Dense(units=10, activation=\"softmax\"))"
   ]
  },
  {
   "cell_type": "markdown",
   "metadata": {},
   "source": [
    "### 5. TRAINING CNN MODEL"
   ]
  },
  {
   "cell_type": "code",
   "execution_count": 21,
   "metadata": {},
   "outputs": [],
   "source": [
    "# Compiling cnn model\n",
    "cnn.compile(optimizer=\"adam\", loss=\"categorical_crossentropy\", metrics=[\"accuracy\", \"precision\", \"recall\", \"f1_score\"])"
   ]
  },
  {
   "cell_type": "code",
   "execution_count": 22,
   "metadata": {},
   "outputs": [],
   "source": [
    "# Training cnn model\n",
    "# cnn.fit(x = train_generator, validation_data=test_generator, epochs=10)"
   ]
  },
  {
   "cell_type": "code",
   "execution_count": 23,
   "metadata": {},
   "outputs": [
    {
     "name": "stdout",
     "output_type": "stream",
     "text": [
      "Epoch 1/25\n",
      "\u001b[1m   7/1563\u001b[0m \u001b[37m━━━━━━━━━━━━━━━━━━━━\u001b[0m \u001b[1m13s\u001b[0m 9ms/step - accuracy: 0.1015 - f1_score: 0.0520 - loss: 2.3093 - precision: 0.0000e+00 - recall: 0.0000e+00 "
     ]
    },
    {
     "name": "stderr",
     "output_type": "stream",
     "text": [
      "c:\\Users\\SinanWannous\\anaconda3\\envs\\dl_course\\Lib\\site-packages\\keras\\src\\trainers\\data_adapters\\py_dataset_adapter.py:122: UserWarning: Your `PyDataset` class should call `super().__init__(**kwargs)` in its constructor. `**kwargs` can include `workers`, `use_multiprocessing`, `max_queue_size`. Do not pass these arguments to `fit()`, as they will be ignored.\n",
      "  self._warn_if_super_not_called()\n"
     ]
    },
    {
     "name": "stdout",
     "output_type": "stream",
     "text": [
      "\u001b[1m1563/1563\u001b[0m \u001b[32m━━━━━━━━━━━━━━━━━━━━\u001b[0m\u001b[37m\u001b[0m \u001b[1m16s\u001b[0m 9ms/step - accuracy: 0.3699 - f1_score: 0.3609 - loss: 1.7259 - precision: 0.6274 - recall: 0.1245 - val_accuracy: 0.5652 - val_f1_score: 0.5581 - val_loss: 1.2117 - val_precision: 0.7240 - val_recall: 0.3969\n",
      "Epoch 2/25\n",
      "\u001b[1m1563/1563\u001b[0m \u001b[32m━━━━━━━━━━━━━━━━━━━━\u001b[0m\u001b[37m\u001b[0m \u001b[1m14s\u001b[0m 9ms/step - accuracy: 0.5588 - f1_score: 0.5552 - loss: 1.2456 - precision: 0.7290 - recall: 0.3703 - val_accuracy: 0.6134 - val_f1_score: 0.6055 - val_loss: 1.0944 - val_precision: 0.7610 - val_recall: 0.4529\n",
      "Epoch 3/25\n",
      "\u001b[1m1563/1563\u001b[0m \u001b[32m━━━━━━━━━━━━━━━━━━━━\u001b[0m\u001b[37m\u001b[0m \u001b[1m14s\u001b[0m 9ms/step - accuracy: 0.6056 - f1_score: 0.6031 - loss: 1.1241 - precision: 0.7547 - recall: 0.4520 - val_accuracy: 0.6265 - val_f1_score: 0.6216 - val_loss: 1.0612 - val_precision: 0.7527 - val_recall: 0.4896\n",
      "Epoch 4/25\n",
      "\u001b[1m1563/1563\u001b[0m \u001b[32m━━━━━━━━━━━━━━━━━━━━\u001b[0m\u001b[37m\u001b[0m \u001b[1m14s\u001b[0m 9ms/step - accuracy: 0.6334 - f1_score: 0.6314 - loss: 1.0391 - precision: 0.7657 - recall: 0.4993 - val_accuracy: 0.6497 - val_f1_score: 0.6452 - val_loss: 1.0010 - val_precision: 0.7511 - val_recall: 0.5442\n",
      "Epoch 5/25\n",
      "\u001b[1m1563/1563\u001b[0m \u001b[32m━━━━━━━━━━━━━━━━━━━━\u001b[0m\u001b[37m\u001b[0m \u001b[1m14s\u001b[0m 9ms/step - accuracy: 0.6562 - f1_score: 0.6551 - loss: 0.9842 - precision: 0.7792 - recall: 0.5315 - val_accuracy: 0.6559 - val_f1_score: 0.6486 - val_loss: 0.9933 - val_precision: 0.7496 - val_recall: 0.5702\n",
      "Epoch 6/25\n",
      "\u001b[1m1563/1563\u001b[0m \u001b[32m━━━━━━━━━━━━━━━━━━━━\u001b[0m\u001b[37m\u001b[0m \u001b[1m14s\u001b[0m 9ms/step - accuracy: 0.6708 - f1_score: 0.6686 - loss: 0.9466 - precision: 0.7875 - recall: 0.5556 - val_accuracy: 0.6791 - val_f1_score: 0.6737 - val_loss: 0.9304 - val_precision: 0.7720 - val_recall: 0.5800\n",
      "Epoch 7/25\n",
      "\u001b[1m1563/1563\u001b[0m \u001b[32m━━━━━━━━━━━━━━━━━━━━\u001b[0m\u001b[37m\u001b[0m \u001b[1m14s\u001b[0m 9ms/step - accuracy: 0.6806 - f1_score: 0.6787 - loss: 0.9093 - precision: 0.7923 - recall: 0.5733 - val_accuracy: 0.6737 - val_f1_score: 0.6678 - val_loss: 0.9398 - val_precision: 0.7635 - val_recall: 0.5866\n",
      "Epoch 8/25\n",
      "\u001b[1m1563/1563\u001b[0m \u001b[32m━━━━━━━━━━━━━━━━━━━━\u001b[0m\u001b[37m\u001b[0m \u001b[1m14s\u001b[0m 9ms/step - accuracy: 0.6969 - f1_score: 0.6958 - loss: 0.8721 - precision: 0.8018 - recall: 0.5948 - val_accuracy: 0.6780 - val_f1_score: 0.6719 - val_loss: 0.9236 - val_precision: 0.7665 - val_recall: 0.6026\n",
      "Epoch 9/25\n",
      "\u001b[1m1563/1563\u001b[0m \u001b[32m━━━━━━━━━━━━━━━━━━━━\u001b[0m\u001b[37m\u001b[0m \u001b[1m14s\u001b[0m 9ms/step - accuracy: 0.7053 - f1_score: 0.7041 - loss: 0.8452 - precision: 0.8039 - recall: 0.6094 - val_accuracy: 0.6904 - val_f1_score: 0.6852 - val_loss: 0.8816 - val_precision: 0.7898 - val_recall: 0.6056\n",
      "Epoch 10/25\n",
      "\u001b[1m1563/1563\u001b[0m \u001b[32m━━━━━━━━━━━━━━━━━━━━\u001b[0m\u001b[37m\u001b[0m \u001b[1m14s\u001b[0m 9ms/step - accuracy: 0.7115 - f1_score: 0.7106 - loss: 0.8310 - precision: 0.8068 - recall: 0.6159 - val_accuracy: 0.6929 - val_f1_score: 0.6892 - val_loss: 0.8938 - val_precision: 0.7731 - val_recall: 0.6185\n",
      "Epoch 11/25\n",
      "\u001b[1m1563/1563\u001b[0m \u001b[32m━━━━━━━━━━━━━━━━━━━━\u001b[0m\u001b[37m\u001b[0m \u001b[1m14s\u001b[0m 9ms/step - accuracy: 0.7150 - f1_score: 0.7147 - loss: 0.8203 - precision: 0.8086 - recall: 0.6245 - val_accuracy: 0.6983 - val_f1_score: 0.6940 - val_loss: 0.8883 - val_precision: 0.7743 - val_recall: 0.6271\n",
      "Epoch 12/25\n",
      "\u001b[1m1563/1563\u001b[0m \u001b[32m━━━━━━━━━━━━━━━━━━━━\u001b[0m\u001b[37m\u001b[0m \u001b[1m14s\u001b[0m 9ms/step - accuracy: 0.7255 - f1_score: 0.7245 - loss: 0.7872 - precision: 0.8169 - recall: 0.6398 - val_accuracy: 0.7036 - val_f1_score: 0.6989 - val_loss: 0.8726 - val_precision: 0.7784 - val_recall: 0.6409\n",
      "Epoch 13/25\n",
      "\u001b[1m1563/1563\u001b[0m \u001b[32m━━━━━━━━━━━━━━━━━━━━\u001b[0m\u001b[37m\u001b[0m \u001b[1m14s\u001b[0m 9ms/step - accuracy: 0.7312 - f1_score: 0.7305 - loss: 0.7679 - precision: 0.8182 - recall: 0.6492 - val_accuracy: 0.7087 - val_f1_score: 0.7023 - val_loss: 0.8661 - val_precision: 0.7866 - val_recall: 0.6455\n",
      "Epoch 14/25\n",
      "\u001b[1m1563/1563\u001b[0m \u001b[32m━━━━━━━━━━━━━━━━━━━━\u001b[0m\u001b[37m\u001b[0m \u001b[1m14s\u001b[0m 9ms/step - accuracy: 0.7405 - f1_score: 0.7387 - loss: 0.7479 - precision: 0.8232 - recall: 0.6609 - val_accuracy: 0.7080 - val_f1_score: 0.7059 - val_loss: 0.8551 - val_precision: 0.7760 - val_recall: 0.6488\n",
      "Epoch 15/25\n",
      "\u001b[1m1563/1563\u001b[0m \u001b[32m━━━━━━━━━━━━━━━━━━━━\u001b[0m\u001b[37m\u001b[0m \u001b[1m14s\u001b[0m 9ms/step - accuracy: 0.7410 - f1_score: 0.7407 - loss: 0.7372 - precision: 0.8240 - recall: 0.6640 - val_accuracy: 0.7142 - val_f1_score: 0.7093 - val_loss: 0.8472 - val_precision: 0.7839 - val_recall: 0.6555\n",
      "Epoch 16/25\n",
      "\u001b[1m1563/1563\u001b[0m \u001b[32m━━━━━━━━━━━━━━━━━━━━\u001b[0m\u001b[37m\u001b[0m \u001b[1m14s\u001b[0m 9ms/step - accuracy: 0.7451 - f1_score: 0.7444 - loss: 0.7264 - precision: 0.8259 - recall: 0.6682 - val_accuracy: 0.7150 - val_f1_score: 0.7114 - val_loss: 0.8503 - val_precision: 0.7885 - val_recall: 0.6494\n",
      "Epoch 17/25\n",
      "\u001b[1m1563/1563\u001b[0m \u001b[32m━━━━━━━━━━━━━━━━━━━━\u001b[0m\u001b[37m\u001b[0m \u001b[1m14s\u001b[0m 9ms/step - accuracy: 0.7487 - f1_score: 0.7485 - loss: 0.7233 - precision: 0.8277 - recall: 0.6725 - val_accuracy: 0.7066 - val_f1_score: 0.6995 - val_loss: 0.8800 - val_precision: 0.7788 - val_recall: 0.6490\n",
      "Epoch 18/25\n",
      "\u001b[1m1563/1563\u001b[0m \u001b[32m━━━━━━━━━━━━━━━━━━━━\u001b[0m\u001b[37m\u001b[0m \u001b[1m14s\u001b[0m 9ms/step - accuracy: 0.7541 - f1_score: 0.7535 - loss: 0.7073 - precision: 0.8286 - recall: 0.6818 - val_accuracy: 0.7148 - val_f1_score: 0.7121 - val_loss: 0.8612 - val_precision: 0.7792 - val_recall: 0.6556\n",
      "Epoch 19/25\n",
      "\u001b[1m1563/1563\u001b[0m \u001b[32m━━━━━━━━━━━━━━━━━━━━\u001b[0m\u001b[37m\u001b[0m \u001b[1m15s\u001b[0m 9ms/step - accuracy: 0.7537 - f1_score: 0.7535 - loss: 0.7057 - precision: 0.8326 - recall: 0.6865 - val_accuracy: 0.7100 - val_f1_score: 0.7048 - val_loss: 0.8711 - val_precision: 0.7800 - val_recall: 0.6512\n",
      "Epoch 20/25\n",
      "\u001b[1m1563/1563\u001b[0m \u001b[32m━━━━━━━━━━━━━━━━━━━━\u001b[0m\u001b[37m\u001b[0m \u001b[1m14s\u001b[0m 9ms/step - accuracy: 0.7586 - f1_score: 0.7573 - loss: 0.6861 - precision: 0.8333 - recall: 0.6892 - val_accuracy: 0.7307 - val_f1_score: 0.7279 - val_loss: 0.8238 - val_precision: 0.7891 - val_recall: 0.6767\n",
      "Epoch 21/25\n",
      "\u001b[1m1563/1563\u001b[0m \u001b[32m━━━━━━━━━━━━━━━━━━━━\u001b[0m\u001b[37m\u001b[0m \u001b[1m14s\u001b[0m 9ms/step - accuracy: 0.7614 - f1_score: 0.7611 - loss: 0.6800 - precision: 0.8326 - recall: 0.6926 - val_accuracy: 0.7158 - val_f1_score: 0.7119 - val_loss: 0.8682 - val_precision: 0.7740 - val_recall: 0.6609\n",
      "Epoch 22/25\n",
      "\u001b[1m1563/1563\u001b[0m \u001b[32m━━━━━━━━━━━━━━━━━━━━\u001b[0m\u001b[37m\u001b[0m \u001b[1m14s\u001b[0m 9ms/step - accuracy: 0.7645 - f1_score: 0.7645 - loss: 0.6696 - precision: 0.8342 - recall: 0.7005 - val_accuracy: 0.7170 - val_f1_score: 0.7120 - val_loss: 0.8494 - val_precision: 0.7781 - val_recall: 0.6705\n",
      "Epoch 23/25\n",
      "\u001b[1m1563/1563\u001b[0m \u001b[32m━━━━━━━━━━━━━━━━━━━━\u001b[0m\u001b[37m\u001b[0m \u001b[1m15s\u001b[0m 9ms/step - accuracy: 0.7674 - f1_score: 0.7666 - loss: 0.6609 - precision: 0.8373 - recall: 0.7008 - val_accuracy: 0.7256 - val_f1_score: 0.7204 - val_loss: 0.8428 - val_precision: 0.7843 - val_recall: 0.6794\n",
      "Epoch 24/25\n",
      "\u001b[1m1563/1563\u001b[0m \u001b[32m━━━━━━━━━━━━━━━━━━━━\u001b[0m\u001b[37m\u001b[0m \u001b[1m15s\u001b[0m 9ms/step - accuracy: 0.7748 - f1_score: 0.7734 - loss: 0.6461 - precision: 0.8391 - recall: 0.7111 - val_accuracy: 0.7301 - val_f1_score: 0.7264 - val_loss: 0.8192 - val_precision: 0.7943 - val_recall: 0.6753\n",
      "Epoch 25/25\n",
      "\u001b[1m1563/1563\u001b[0m \u001b[32m━━━━━━━━━━━━━━━━━━━━\u001b[0m\u001b[37m\u001b[0m \u001b[1m14s\u001b[0m 9ms/step - accuracy: 0.7753 - f1_score: 0.7746 - loss: 0.6421 - precision: 0.8413 - recall: 0.7105 - val_accuracy: 0.7222 - val_f1_score: 0.7172 - val_loss: 0.8816 - val_precision: 0.7764 - val_recall: 0.6784\n"
     ]
    }
   ],
   "source": [
    "# Train the model using the generated and augmented data\n",
    "history = cnn.fit(\n",
    "    train_generator,\n",
    "    epochs=25,\n",
    "    validation_data=test_generator\n",
    ")"
   ]
  },
  {
   "cell_type": "code",
   "execution_count": 24,
   "metadata": {},
   "outputs": [
    {
     "data": {
      "image/png": "[encoded data removed]",
      "text/plain": [
       "<Figure size 640x480 with 1 Axes>"
      ]
     },
     "metadata": {},
     "output_type": "display_data"
    }
   ],
   "source": [
    "# Plot training & validation accuracy values\n",
    "plt.plot(history.history['accuracy'])\n",
    "plt.plot(history.history['val_accuracy'])\n",
    "plt.title('Model accuracy')\n",
    "plt.ylabel('Accuracy')\n",
    "plt.xlabel('Epoch')\n",
    "plt.legend(['Train', 'Validation'], loc='upper left')\n",
    "plt.show()"
   ]
  }
 ],
 "metadata": {
  "kernelspec": {
   "display_name": "dl_course",
   "language": "python",
   "name": "python3"
  },
  "language_info": {
   "codemirror_mode": {
    "name": "ipython",
    "version": 3
   },
   "file_extension": ".py",
   "mimetype": "text/x-python",
   "name": "python",
   "nbconvert_exporter": "python",
   "pygments_lexer": "ipython3",
   "version": "3.11.8"
  }
 },
 "nbformat": 4,
 "nbformat_minor": 2
}
